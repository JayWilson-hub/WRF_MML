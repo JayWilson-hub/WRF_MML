{
 "cells": [
  {
   "cell_type": "code",
   "execution_count": 3,
   "metadata": {
    "ExecuteTime": {
     "end_time": "2019-08-24T23:21:23.093204Z",
     "start_time": "2019-08-24T23:21:23.086986Z"
    }
   },
   "outputs": [],
   "source": [
    "import numpy as np\n",
    "import pandas as pd\n",
    "import matplotlib.pyplot as plt\n",
    "%matplotlib inline"
   ]
  },
  {
   "cell_type": "markdown",
   "metadata": {},
   "source": [
    "# Dados"
   ]
  },
  {
   "cell_type": "code",
   "execution_count": 5,
   "metadata": {
    "ExecuteTime": {
     "end_time": "2019-08-24T16:57:11.023219Z",
     "start_time": "2019-08-24T16:57:10.904770Z"
    }
   },
   "outputs": [],
   "source": [
    "# abrindo dados\n",
    "df = pd.read_csv('../dados_meteorologicos/dataframe_ML_8unit.csv')"
   ]
  },
  {
   "cell_type": "code",
   "execution_count": 6,
   "metadata": {
    "ExecuteTime": {
     "end_time": "2019-08-24T16:57:17.727642Z",
     "start_time": "2019-08-24T16:57:17.708642Z"
    }
   },
   "outputs": [
    {
     "data": {
      "text/html": [
       "<div>\n",
       "<style scoped>\n",
       "    .dataframe tbody tr th:only-of-type {\n",
       "        vertical-align: middle;\n",
       "    }\n",
       "\n",
       "    .dataframe tbody tr th {\n",
       "        vertical-align: top;\n",
       "    }\n",
       "\n",
       "    .dataframe thead th {\n",
       "        text-align: right;\n",
       "    }\n",
       "</style>\n",
       "<table border=\"1\" class=\"dataframe\">\n",
       "  <thead>\n",
       "    <tr style=\"text-align: right;\">\n",
       "      <th></th>\n",
       "      <th>Unnamed: 0</th>\n",
       "      <th>t2_5km</th>\n",
       "      <th>usodosolo</th>\n",
       "      <th>elevacao</th>\n",
       "      <th>aspect</th>\n",
       "      <th>slope</th>\n",
       "      <th>ndvi</th>\n",
       "      <th>evi</th>\n",
       "      <th>t2_1km</th>\n",
       "      <th>aspect_LE</th>\n",
       "      <th>aspect_NS</th>\n",
       "    </tr>\n",
       "  </thead>\n",
       "  <tbody>\n",
       "    <tr>\n",
       "      <th>0</th>\n",
       "      <td>71</td>\n",
       "      <td>293.861</td>\n",
       "      <td>2.0</td>\n",
       "      <td>530</td>\n",
       "      <td>138.04742</td>\n",
       "      <td>3.825599</td>\n",
       "      <td>7881</td>\n",
       "      <td>4294</td>\n",
       "      <td>292.852</td>\n",
       "      <td>0.983365</td>\n",
       "      <td>-0.181639</td>\n",
       "    </tr>\n",
       "    <tr>\n",
       "      <th>1</th>\n",
       "      <td>72</td>\n",
       "      <td>293.861</td>\n",
       "      <td>2.0</td>\n",
       "      <td>610</td>\n",
       "      <td>311.32670</td>\n",
       "      <td>3.327508</td>\n",
       "      <td>8178</td>\n",
       "      <td>3931</td>\n",
       "      <td>293.374</td>\n",
       "      <td>-0.952633</td>\n",
       "      <td>-0.304123</td>\n",
       "    </tr>\n",
       "    <tr>\n",
       "      <th>2</th>\n",
       "      <td>73</td>\n",
       "      <td>293.861</td>\n",
       "      <td>2.0</td>\n",
       "      <td>551</td>\n",
       "      <td>315.65450</td>\n",
       "      <td>15.256382</td>\n",
       "      <td>6945</td>\n",
       "      <td>4890</td>\n",
       "      <td>293.502</td>\n",
       "      <td>0.075479</td>\n",
       "      <td>0.997147</td>\n",
       "    </tr>\n",
       "    <tr>\n",
       "      <th>3</th>\n",
       "      <td>74</td>\n",
       "      <td>293.861</td>\n",
       "      <td>2.0</td>\n",
       "      <td>335</td>\n",
       "      <td>294.22177</td>\n",
       "      <td>14.086095</td>\n",
       "      <td>7983</td>\n",
       "      <td>6046</td>\n",
       "      <td>294.146</td>\n",
       "      <td>0.464312</td>\n",
       "      <td>-0.885671</td>\n",
       "    </tr>\n",
       "    <tr>\n",
       "      <th>4</th>\n",
       "      <td>75</td>\n",
       "      <td>295.679</td>\n",
       "      <td>2.0</td>\n",
       "      <td>434</td>\n",
       "      <td>267.82870</td>\n",
       "      <td>9.051502</td>\n",
       "      <td>7665</td>\n",
       "      <td>5841</td>\n",
       "      <td>295.056</td>\n",
       "      <td>-0.701476</td>\n",
       "      <td>-0.712693</td>\n",
       "    </tr>\n",
       "  </tbody>\n",
       "</table>\n",
       "</div>"
      ],
      "text/plain": [
       "   Unnamed: 0   t2_5km  usodosolo  elevacao     aspect      slope  ndvi   evi  \\\n",
       "0          71  293.861        2.0       530  138.04742   3.825599  7881  4294   \n",
       "1          72  293.861        2.0       610  311.32670   3.327508  8178  3931   \n",
       "2          73  293.861        2.0       551  315.65450  15.256382  6945  4890   \n",
       "3          74  293.861        2.0       335  294.22177  14.086095  7983  6046   \n",
       "4          75  295.679        2.0       434  267.82870   9.051502  7665  5841   \n",
       "\n",
       "    t2_1km  aspect_LE  aspect_NS  \n",
       "0  292.852   0.983365  -0.181639  \n",
       "1  293.374  -0.952633  -0.304123  \n",
       "2  293.502   0.075479   0.997147  \n",
       "3  294.146   0.464312  -0.885671  \n",
       "4  295.056  -0.701476  -0.712693  "
      ]
     },
     "execution_count": 6,
     "metadata": {},
     "output_type": "execute_result"
    }
   ],
   "source": [
    "df.head()"
   ]
  },
  {
   "cell_type": "code",
   "execution_count": 7,
   "metadata": {
    "ExecuteTime": {
     "end_time": "2019-08-24T16:57:19.401724Z",
     "start_time": "2019-08-24T16:57:19.392446Z"
    }
   },
   "outputs": [],
   "source": [
    "df = df.drop(['Unnamed: 0','aspect'],axis=1)"
   ]
  },
  {
   "cell_type": "code",
   "execution_count": 8,
   "metadata": {
    "ExecuteTime": {
     "end_time": "2019-08-24T16:57:20.360499Z",
     "start_time": "2019-08-24T16:57:20.140650Z"
    }
   },
   "outputs": [],
   "source": [
    "# preparando os dados\n",
    "from sklearn.preprocessing import MultiLabelBinarizer\n",
    "from sklearn.preprocessing import StandardScaler"
   ]
  },
  {
   "cell_type": "code",
   "execution_count": 9,
   "metadata": {
    "ExecuteTime": {
     "end_time": "2019-08-24T16:57:23.485401Z",
     "start_time": "2019-08-24T16:57:23.178434Z"
    }
   },
   "outputs": [],
   "source": [
    "bina = MultiLabelBinarizer()\n",
    "usodosolo = bina.fit(df.usodosolo.values.reshape(-1,1)).transform(df.usodosolo.values.reshape(-1,1))"
   ]
  },
  {
   "cell_type": "code",
   "execution_count": 10,
   "metadata": {
    "ExecuteTime": {
     "end_time": "2019-08-24T16:57:24.755308Z",
     "start_time": "2019-08-24T16:57:24.705520Z"
    }
   },
   "outputs": [],
   "source": [
    "Y = df.t2_1km.values\n",
    "X = df[['t2_5km','elevacao','ndvi','evi','slope','aspect_LE','aspect_NS']].values\n",
    "stander = StandardScaler()\n",
    "X = stander.fit(X).transform(X)\n",
    "X = np.hstack((X,usodosolo))"
   ]
  },
  {
   "cell_type": "markdown",
   "metadata": {},
   "source": [
    "# SVR cross validation"
   ]
  },
  {
   "cell_type": "code",
   "execution_count": 11,
   "metadata": {
    "ExecuteTime": {
     "end_time": "2019-08-24T16:57:28.203646Z",
     "start_time": "2019-08-24T16:57:27.964112Z"
    }
   },
   "outputs": [],
   "source": [
    "# test um\n",
    "from sklearn.svm import SVR\n",
    "from sklearn.model_selection import cross_validate"
   ]
  },
  {
   "cell_type": "code",
   "execution_count": 12,
   "metadata": {
    "ExecuteTime": {
     "end_time": "2019-08-24T16:57:31.257346Z",
     "start_time": "2019-08-24T16:57:31.254174Z"
    }
   },
   "outputs": [],
   "source": [
    "model = SVR()"
   ]
  },
  {
   "cell_type": "code",
   "execution_count": 13,
   "metadata": {
    "ExecuteTime": {
     "end_time": "2019-08-24T20:54:28.823933Z",
     "start_time": "2019-08-24T17:00:52.136100Z"
    }
   },
   "outputs": [],
   "source": [
    "cv_result = cross_validate(model,X, Y,scoring=('r2', 'neg_mean_squared_error'),\n",
    "        cv=10,return_train_score= True)"
   ]
  },
  {
   "cell_type": "code",
   "execution_count": 14,
   "metadata": {
    "ExecuteTime": {
     "end_time": "2019-08-24T20:54:28.830765Z",
     "start_time": "2019-08-24T20:54:28.826152Z"
    }
   },
   "outputs": [
    {
     "data": {
      "text/plain": [
       "array([ 0.42005592,  0.40999826,  0.66674037,  0.75915076,  0.79233936,\n",
       "        0.87582042,  0.65251282,  0.69436587,  0.44750835,  0.57339374])"
      ]
     },
     "execution_count": 14,
     "metadata": {},
     "output_type": "execute_result"
    }
   ],
   "source": [
    "cv_result['test_r2']"
   ]
  },
  {
   "cell_type": "code",
   "execution_count": 15,
   "metadata": {
    "ExecuteTime": {
     "end_time": "2019-08-24T20:54:28.841493Z",
     "start_time": "2019-08-24T20:54:28.832728Z"
    }
   },
   "outputs": [],
   "source": [
    "resultado = pd.DataFrame.from_dict(cv_result)\n",
    "resultado.to_csv('cross_vald.csv')"
   ]
  },
  {
   "cell_type": "markdown",
   "metadata": {},
   "source": [
    "# Analisando"
   ]
  },
  {
   "cell_type": "code",
   "execution_count": 4,
   "metadata": {
    "ExecuteTime": {
     "end_time": "2019-08-24T23:21:35.928955Z",
     "start_time": "2019-08-24T23:21:35.919329Z"
    }
   },
   "outputs": [],
   "source": [
    "rs = pd.read_csv('cross_vald.csv')"
   ]
  },
  {
   "cell_type": "code",
   "execution_count": 9,
   "metadata": {
    "ExecuteTime": {
     "end_time": "2019-08-24T23:23:09.515830Z",
     "start_time": "2019-08-24T23:23:07.706943Z"
    }
   },
   "outputs": [
    {
     "data": {
      "text/plain": [
       "array([<matplotlib.axes._subplots.AxesSubplot object at 0x7f3cb634e4a8>,\n",
       "       <matplotlib.axes._subplots.AxesSubplot object at 0x7f3cb6fa0ba8>,\n",
       "       <matplotlib.axes._subplots.AxesSubplot object at 0x7f3cb6387048>,\n",
       "       <matplotlib.axes._subplots.AxesSubplot object at 0x7f3cb62364a8>,\n",
       "       <matplotlib.axes._subplots.AxesSubplot object at 0x7f3cb61ee908>,\n",
       "       <matplotlib.axes._subplots.AxesSubplot object at 0x7f3cb621ad68>,\n",
       "       <matplotlib.axes._subplots.AxesSubplot object at 0x7f3cb61d3208>], dtype=object)"
      ]
     },
     "execution_count": 9,
     "metadata": {},
     "output_type": "execute_result"
    },
    {
     "data": {
      "image/png": "[encoded data removed]",
      "text/plain": [
       "<Figure size 1008x720 with 7 Axes>"
      ]
     },
     "metadata": {
      "needs_background": "light"
     },
     "output_type": "display_data"
    }
   ],
   "source": [
    "rs.plot.bar(subplots=True,figsize=(14,10))"
   ]
  },
  {
   "cell_type": "code",
   "execution_count": 11,
   "metadata": {
    "ExecuteTime": {
     "end_time": "2019-08-24T23:24:05.745027Z",
     "start_time": "2019-08-24T23:24:05.737926Z"
    }
   },
   "outputs": [
    {
     "data": {
      "text/plain": [
       "0    0.420056\n",
       "1    0.409998\n",
       "2    0.666740\n",
       "3    0.759151\n",
       "4    0.792339\n",
       "5    0.875820\n",
       "6    0.652513\n",
       "7    0.694366\n",
       "8    0.447508\n",
       "9    0.573394\n",
       "Name: test_r2, dtype: float64"
      ]
     },
     "execution_count": 11,
     "metadata": {},
     "output_type": "execute_result"
    }
   ],
   "source": [
    "rs.test_r2"
   ]
  }
 ],
 "metadata": {
  "kernelspec": {
   "display_name": "Python 3",
   "language": "python",
   "name": "python3"
  },
  "language_info": {
   "codemirror_mode": {
    "name": "ipython",
    "version": 3
   },
   "file_extension": ".py",
   "mimetype": "text/x-python",
   "name": "python",
   "nbconvert_exporter": "python",
   "pygments_lexer": "ipython3",
   "version": "3.6.8"
  }
 },
 "nbformat": 4,
 "nbformat_minor": 2
}
