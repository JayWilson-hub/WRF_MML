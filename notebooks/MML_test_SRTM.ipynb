{
 "cells": [
  {
   "cell_type": "code",
   "execution_count": 1,
   "metadata": {},
   "outputs": [],
   "source": [
    "import pandas as pd\n",
    "import numpy as np\n",
    "import matplotlib.pyplot as plt\n",
    "%matplotlib inline"
   ]
  },
  {
   "cell_type": "code",
   "execution_count": 2,
   "metadata": {},
   "outputs": [],
   "source": [
    "df = pd.read_pickle('../dados_meteorologicos/T_06216072017.csv')"
   ]
  },
  {
   "cell_type": "markdown",
   "metadata": {},
   "source": [
    "# Preparando os dados\n",
    "\n",
    "## Alvos: Iraja, alto da boa vista, copacaba"
   ]
  },
  {
   "cell_type": "code",
   "execution_count": 33,
   "metadata": {},
   "outputs": [],
   "source": [
    "temp1 = df.drop(['alto_da_boa_vista','iraja','f_copacabana'],axis=1)\n",
    "temp2 = df.drop(['alto_da_boa_vista','iraja','f_copacabana'],axis=1)\n",
    "temp3 = df.drop(['alto_da_boa_vista','iraja','f_copacabana'],axis=1)"
   ]
  },
  {
   "cell_type": "markdown",
   "metadata": {},
   "source": [
    "## Iajá indice topograficos \n",
    "\n",
    "alt:12.86\n",
    "aspect : 288.43\n",
    "slope: 0.48\n",
    "\n"
   ]
  },
  {
   "cell_type": "code",
   "execution_count": 4,
   "metadata": {},
   "outputs": [],
   "source": [
    "temp1['altitude']= np.full((len(temp1)),12.86)\n",
    "temp1['m_feat']= np.full((len(temp1)),288.43)\n",
    "temp1['slope']= np.full((len(temp1)),0.48)\n",
    "temp1['y_var']= df.iraja"
   ]
  },
  {
   "cell_type": "code",
   "execution_count": 34,
   "metadata": {},
   "outputs": [
    {
     "data": {
      "text/html": [
       "<div>\n",
       "<style scoped>\n",
       "    .dataframe tbody tr th:only-of-type {\n",
       "        vertical-align: middle;\n",
       "    }\n",
       "\n",
       "    .dataframe tbody tr th {\n",
       "        vertical-align: top;\n",
       "    }\n",
       "\n",
       "    .dataframe thead th {\n",
       "        text-align: right;\n",
       "    }\n",
       "</style>\n",
       "<table border=\"1\" class=\"dataframe\">\n",
       "  <thead>\n",
       "    <tr style=\"text-align: right;\">\n",
       "      <th></th>\n",
       "      <th>riocentro</th>\n",
       "      <th>guaratiba</th>\n",
       "      <th>jardim_botanico</th>\n",
       "      <th>santa_cruz</th>\n",
       "      <th>sao_cristovao</th>\n",
       "      <th>marambaia</th>\n",
       "      <th>xerem</th>\n",
       "      <th>ecologia</th>\n",
       "    </tr>\n",
       "    <tr>\n",
       "      <th>data</th>\n",
       "      <th></th>\n",
       "      <th></th>\n",
       "      <th></th>\n",
       "      <th></th>\n",
       "      <th></th>\n",
       "      <th></th>\n",
       "      <th></th>\n",
       "      <th></th>\n",
       "    </tr>\n",
       "  </thead>\n",
       "  <tbody>\n",
       "    <tr>\n",
       "      <th>2017-07-28 00:00:00</th>\n",
       "      <td>19.900</td>\n",
       "      <td>NaN</td>\n",
       "      <td>17.050</td>\n",
       "      <td>18.225</td>\n",
       "      <td>20.625</td>\n",
       "      <td>20.40</td>\n",
       "      <td>14.70</td>\n",
       "      <td>18.25</td>\n",
       "    </tr>\n",
       "    <tr>\n",
       "      <th>2017-07-28 01:00:00</th>\n",
       "      <td>20.100</td>\n",
       "      <td>NaN</td>\n",
       "      <td>18.350</td>\n",
       "      <td>16.925</td>\n",
       "      <td>20.275</td>\n",
       "      <td>20.00</td>\n",
       "      <td>14.05</td>\n",
       "      <td>18.25</td>\n",
       "    </tr>\n",
       "    <tr>\n",
       "      <th>2017-07-28 02:00:00</th>\n",
       "      <td>19.775</td>\n",
       "      <td>NaN</td>\n",
       "      <td>18.825</td>\n",
       "      <td>16.300</td>\n",
       "      <td>19.650</td>\n",
       "      <td>19.65</td>\n",
       "      <td>13.55</td>\n",
       "      <td>17.15</td>\n",
       "    </tr>\n",
       "    <tr>\n",
       "      <th>2017-07-28 03:00:00</th>\n",
       "      <td>19.750</td>\n",
       "      <td>NaN</td>\n",
       "      <td>18.575</td>\n",
       "      <td>15.925</td>\n",
       "      <td>19.650</td>\n",
       "      <td>18.75</td>\n",
       "      <td>13.20</td>\n",
       "      <td>16.00</td>\n",
       "    </tr>\n",
       "    <tr>\n",
       "      <th>2017-07-28 04:00:00</th>\n",
       "      <td>19.575</td>\n",
       "      <td>NaN</td>\n",
       "      <td>17.550</td>\n",
       "      <td>15.625</td>\n",
       "      <td>19.175</td>\n",
       "      <td>17.70</td>\n",
       "      <td>12.85</td>\n",
       "      <td>14.65</td>\n",
       "    </tr>\n",
       "    <tr>\n",
       "      <th>2017-07-28 05:00:00</th>\n",
       "      <td>18.950</td>\n",
       "      <td>NaN</td>\n",
       "      <td>17.125</td>\n",
       "      <td>15.625</td>\n",
       "      <td>18.850</td>\n",
       "      <td>18.35</td>\n",
       "      <td>12.50</td>\n",
       "      <td>14.75</td>\n",
       "    </tr>\n",
       "    <tr>\n",
       "      <th>2017-07-28 06:00:00</th>\n",
       "      <td>17.975</td>\n",
       "      <td>NaN</td>\n",
       "      <td>17.975</td>\n",
       "      <td>15.400</td>\n",
       "      <td>18.475</td>\n",
       "      <td>16.90</td>\n",
       "      <td>12.15</td>\n",
       "      <td>14.40</td>\n",
       "    </tr>\n",
       "    <tr>\n",
       "      <th>2017-07-28 07:00:00</th>\n",
       "      <td>18.350</td>\n",
       "      <td>NaN</td>\n",
       "      <td>19.875</td>\n",
       "      <td>16.525</td>\n",
       "      <td>19.800</td>\n",
       "      <td>14.90</td>\n",
       "      <td>11.65</td>\n",
       "      <td>14.45</td>\n",
       "    </tr>\n",
       "    <tr>\n",
       "      <th>2017-07-28 08:00:00</th>\n",
       "      <td>20.825</td>\n",
       "      <td>NaN</td>\n",
       "      <td>21.900</td>\n",
       "      <td>20.100</td>\n",
       "      <td>21.475</td>\n",
       "      <td>14.95</td>\n",
       "      <td>11.65</td>\n",
       "      <td>14.45</td>\n",
       "    </tr>\n",
       "    <tr>\n",
       "      <th>2017-07-28 09:00:00</th>\n",
       "      <td>24.025</td>\n",
       "      <td>NaN</td>\n",
       "      <td>22.725</td>\n",
       "      <td>22.800</td>\n",
       "      <td>22.200</td>\n",
       "      <td>13.80</td>\n",
       "      <td>11.20</td>\n",
       "      <td>13.90</td>\n",
       "    </tr>\n",
       "    <tr>\n",
       "      <th>2017-07-28 10:00:00</th>\n",
       "      <td>25.125</td>\n",
       "      <td>NaN</td>\n",
       "      <td>23.300</td>\n",
       "      <td>24.275</td>\n",
       "      <td>22.825</td>\n",
       "      <td>14.10</td>\n",
       "      <td>11.30</td>\n",
       "      <td>13.30</td>\n",
       "    </tr>\n",
       "    <tr>\n",
       "      <th>2017-07-28 11:00:00</th>\n",
       "      <td>24.775</td>\n",
       "      <td>NaN</td>\n",
       "      <td>23.575</td>\n",
       "      <td>25.300</td>\n",
       "      <td>24.575</td>\n",
       "      <td>16.30</td>\n",
       "      <td>12.90</td>\n",
       "      <td>15.50</td>\n",
       "    </tr>\n",
       "    <tr>\n",
       "      <th>2017-07-28 12:00:00</th>\n",
       "      <td>24.700</td>\n",
       "      <td>NaN</td>\n",
       "      <td>23.675</td>\n",
       "      <td>26.575</td>\n",
       "      <td>23.825</td>\n",
       "      <td>19.55</td>\n",
       "      <td>16.55</td>\n",
       "      <td>19.10</td>\n",
       "    </tr>\n",
       "    <tr>\n",
       "      <th>2017-07-28 13:00:00</th>\n",
       "      <td>25.250</td>\n",
       "      <td>NaN</td>\n",
       "      <td>23.275</td>\n",
       "      <td>26.900</td>\n",
       "      <td>23.700</td>\n",
       "      <td>21.90</td>\n",
       "      <td>19.90</td>\n",
       "      <td>21.75</td>\n",
       "    </tr>\n",
       "    <tr>\n",
       "      <th>2017-07-28 14:00:00</th>\n",
       "      <td>25.050</td>\n",
       "      <td>NaN</td>\n",
       "      <td>23.175</td>\n",
       "      <td>26.950</td>\n",
       "      <td>23.025</td>\n",
       "      <td>21.35</td>\n",
       "      <td>21.40</td>\n",
       "      <td>23.40</td>\n",
       "    </tr>\n",
       "    <tr>\n",
       "      <th>2017-07-28 15:00:00</th>\n",
       "      <td>25.800</td>\n",
       "      <td>NaN</td>\n",
       "      <td>22.550</td>\n",
       "      <td>25.875</td>\n",
       "      <td>23.050</td>\n",
       "      <td>21.50</td>\n",
       "      <td>23.00</td>\n",
       "      <td>25.10</td>\n",
       "    </tr>\n",
       "    <tr>\n",
       "      <th>2017-07-28 16:00:00</th>\n",
       "      <td>24.525</td>\n",
       "      <td>NaN</td>\n",
       "      <td>22.025</td>\n",
       "      <td>24.650</td>\n",
       "      <td>22.775</td>\n",
       "      <td>21.95</td>\n",
       "      <td>23.65</td>\n",
       "      <td>25.85</td>\n",
       "    </tr>\n",
       "    <tr>\n",
       "      <th>2017-07-28 17:00:00</th>\n",
       "      <td>22.750</td>\n",
       "      <td>NaN</td>\n",
       "      <td>21.325</td>\n",
       "      <td>22.750</td>\n",
       "      <td>22.025</td>\n",
       "      <td>22.80</td>\n",
       "      <td>23.80</td>\n",
       "      <td>25.90</td>\n",
       "    </tr>\n",
       "    <tr>\n",
       "      <th>2017-07-28 18:00:00</th>\n",
       "      <td>21.400</td>\n",
       "      <td>NaN</td>\n",
       "      <td>20.900</td>\n",
       "      <td>21.650</td>\n",
       "      <td>21.250</td>\n",
       "      <td>22.85</td>\n",
       "      <td>24.15</td>\n",
       "      <td>25.95</td>\n",
       "    </tr>\n",
       "    <tr>\n",
       "      <th>2017-07-28 19:00:00</th>\n",
       "      <td>21.150</td>\n",
       "      <td>NaN</td>\n",
       "      <td>20.775</td>\n",
       "      <td>20.800</td>\n",
       "      <td>21.050</td>\n",
       "      <td>22.25</td>\n",
       "      <td>24.80</td>\n",
       "      <td>25.85</td>\n",
       "    </tr>\n",
       "    <tr>\n",
       "      <th>2017-07-28 20:00:00</th>\n",
       "      <td>20.525</td>\n",
       "      <td>NaN</td>\n",
       "      <td>20.250</td>\n",
       "      <td>19.725</td>\n",
       "      <td>20.975</td>\n",
       "      <td>21.55</td>\n",
       "      <td>23.20</td>\n",
       "      <td>24.60</td>\n",
       "    </tr>\n",
       "    <tr>\n",
       "      <th>2017-07-28 21:00:00</th>\n",
       "      <td>19.775</td>\n",
       "      <td>NaN</td>\n",
       "      <td>19.400</td>\n",
       "      <td>19.775</td>\n",
       "      <td>21.200</td>\n",
       "      <td>20.55</td>\n",
       "      <td>19.35</td>\n",
       "      <td>21.85</td>\n",
       "    </tr>\n",
       "    <tr>\n",
       "      <th>2017-07-28 22:00:00</th>\n",
       "      <td>21.250</td>\n",
       "      <td>NaN</td>\n",
       "      <td>20.175</td>\n",
       "      <td>19.075</td>\n",
       "      <td>21.325</td>\n",
       "      <td>20.15</td>\n",
       "      <td>16.50</td>\n",
       "      <td>20.30</td>\n",
       "    </tr>\n",
       "    <tr>\n",
       "      <th>2017-07-28 23:00:00</th>\n",
       "      <td>21.025</td>\n",
       "      <td>NaN</td>\n",
       "      <td>19.050</td>\n",
       "      <td>18.750</td>\n",
       "      <td>21.000</td>\n",
       "      <td>19.95</td>\n",
       "      <td>15.55</td>\n",
       "      <td>19.40</td>\n",
       "    </tr>\n",
       "  </tbody>\n",
       "</table>\n",
       "</div>"
      ],
      "text/plain": [
       "                     riocentro  guaratiba  jardim_botanico  santa_cruz  \\\n",
       "data                                                                     \n",
       "2017-07-28 00:00:00     19.900        NaN           17.050      18.225   \n",
       "2017-07-28 01:00:00     20.100        NaN           18.350      16.925   \n",
       "2017-07-28 02:00:00     19.775        NaN           18.825      16.300   \n",
       "2017-07-28 03:00:00     19.750        NaN           18.575      15.925   \n",
       "2017-07-28 04:00:00     19.575        NaN           17.550      15.625   \n",
       "2017-07-28 05:00:00     18.950        NaN           17.125      15.625   \n",
       "2017-07-28 06:00:00     17.975        NaN           17.975      15.400   \n",
       "2017-07-28 07:00:00     18.350        NaN           19.875      16.525   \n",
       "2017-07-28 08:00:00     20.825        NaN           21.900      20.100   \n",
       "2017-07-28 09:00:00     24.025        NaN           22.725      22.800   \n",
       "2017-07-28 10:00:00     25.125        NaN           23.300      24.275   \n",
       "2017-07-28 11:00:00     24.775        NaN           23.575      25.300   \n",
       "2017-07-28 12:00:00     24.700        NaN           23.675      26.575   \n",
       "2017-07-28 13:00:00     25.250        NaN           23.275      26.900   \n",
       "2017-07-28 14:00:00     25.050        NaN           23.175      26.950   \n",
       "2017-07-28 15:00:00     25.800        NaN           22.550      25.875   \n",
       "2017-07-28 16:00:00     24.525        NaN           22.025      24.650   \n",
       "2017-07-28 17:00:00     22.750        NaN           21.325      22.750   \n",
       "2017-07-28 18:00:00     21.400        NaN           20.900      21.650   \n",
       "2017-07-28 19:00:00     21.150        NaN           20.775      20.800   \n",
       "2017-07-28 20:00:00     20.525        NaN           20.250      19.725   \n",
       "2017-07-28 21:00:00     19.775        NaN           19.400      19.775   \n",
       "2017-07-28 22:00:00     21.250        NaN           20.175      19.075   \n",
       "2017-07-28 23:00:00     21.025        NaN           19.050      18.750   \n",
       "\n",
       "                     sao_cristovao  marambaia  xerem  ecologia  \n",
       "data                                                            \n",
       "2017-07-28 00:00:00         20.625      20.40  14.70     18.25  \n",
       "2017-07-28 01:00:00         20.275      20.00  14.05     18.25  \n",
       "2017-07-28 02:00:00         19.650      19.65  13.55     17.15  \n",
       "2017-07-28 03:00:00         19.650      18.75  13.20     16.00  \n",
       "2017-07-28 04:00:00         19.175      17.70  12.85     14.65  \n",
       "2017-07-28 05:00:00         18.850      18.35  12.50     14.75  \n",
       "2017-07-28 06:00:00         18.475      16.90  12.15     14.40  \n",
       "2017-07-28 07:00:00         19.800      14.90  11.65     14.45  \n",
       "2017-07-28 08:00:00         21.475      14.95  11.65     14.45  \n",
       "2017-07-28 09:00:00         22.200      13.80  11.20     13.90  \n",
       "2017-07-28 10:00:00         22.825      14.10  11.30     13.30  \n",
       "2017-07-28 11:00:00         24.575      16.30  12.90     15.50  \n",
       "2017-07-28 12:00:00         23.825      19.55  16.55     19.10  \n",
       "2017-07-28 13:00:00         23.700      21.90  19.90     21.75  \n",
       "2017-07-28 14:00:00         23.025      21.35  21.40     23.40  \n",
       "2017-07-28 15:00:00         23.050      21.50  23.00     25.10  \n",
       "2017-07-28 16:00:00         22.775      21.95  23.65     25.85  \n",
       "2017-07-28 17:00:00         22.025      22.80  23.80     25.90  \n",
       "2017-07-28 18:00:00         21.250      22.85  24.15     25.95  \n",
       "2017-07-28 19:00:00         21.050      22.25  24.80     25.85  \n",
       "2017-07-28 20:00:00         20.975      21.55  23.20     24.60  \n",
       "2017-07-28 21:00:00         21.200      20.55  19.35     21.85  \n",
       "2017-07-28 22:00:00         21.325      20.15  16.50     20.30  \n",
       "2017-07-28 23:00:00         21.000      19.95  15.55     19.40  "
      ]
     },
     "execution_count": 34,
     "metadata": {},
     "output_type": "execute_result"
    }
   ],
   "source": [
    "temp1.loc['2017-07-28']"
   ]
  },
  {
   "cell_type": "code",
   "execution_count": 13,
   "metadata": {},
   "outputs": [
    {
     "data": {
      "text/html": [
       "<div>\n",
       "<style scoped>\n",
       "    .dataframe tbody tr th:only-of-type {\n",
       "        vertical-align: middle;\n",
       "    }\n",
       "\n",
       "    .dataframe tbody tr th {\n",
       "        vertical-align: top;\n",
       "    }\n",
       "\n",
       "    .dataframe thead th {\n",
       "        text-align: right;\n",
       "    }\n",
       "</style>\n",
       "<table border=\"1\" class=\"dataframe\">\n",
       "  <thead>\n",
       "    <tr style=\"text-align: right;\">\n",
       "      <th></th>\n",
       "      <th>riocentro</th>\n",
       "      <th>guaratiba</th>\n",
       "      <th>jardim_botanico</th>\n",
       "      <th>santa_cruz</th>\n",
       "      <th>sao_cristovao</th>\n",
       "      <th>marambaia</th>\n",
       "      <th>xerem</th>\n",
       "      <th>ecologia</th>\n",
       "      <th>altitude</th>\n",
       "      <th>m_feat</th>\n",
       "      <th>slope</th>\n",
       "      <th>y_var</th>\n",
       "    </tr>\n",
       "    <tr>\n",
       "      <th>data</th>\n",
       "      <th></th>\n",
       "      <th></th>\n",
       "      <th></th>\n",
       "      <th></th>\n",
       "      <th></th>\n",
       "      <th></th>\n",
       "      <th></th>\n",
       "      <th></th>\n",
       "      <th></th>\n",
       "      <th></th>\n",
       "      <th></th>\n",
       "      <th></th>\n",
       "    </tr>\n",
       "  </thead>\n",
       "  <tbody>\n",
       "    <tr>\n",
       "      <th>2016-06-01 00:00:00</th>\n",
       "      <td>25.125</td>\n",
       "      <td>22.350</td>\n",
       "      <td>24.475000</td>\n",
       "      <td>25.125</td>\n",
       "      <td>25.025000</td>\n",
       "      <td>21.60</td>\n",
       "      <td>19.05</td>\n",
       "      <td>20.8</td>\n",
       "      <td>12.86</td>\n",
       "      <td>1</td>\n",
       "      <td>0.48</td>\n",
       "      <td>24.800000</td>\n",
       "    </tr>\n",
       "    <tr>\n",
       "      <th>2016-06-01 01:00:00</th>\n",
       "      <td>24.975</td>\n",
       "      <td>22.725</td>\n",
       "      <td>24.025000</td>\n",
       "      <td>24.800</td>\n",
       "      <td>24.950000</td>\n",
       "      <td>21.20</td>\n",
       "      <td>18.50</td>\n",
       "      <td>20.6</td>\n",
       "      <td>12.86</td>\n",
       "      <td>1</td>\n",
       "      <td>0.48</td>\n",
       "      <td>24.550000</td>\n",
       "    </tr>\n",
       "    <tr>\n",
       "      <th>2016-06-01 02:00:00</th>\n",
       "      <td>24.975</td>\n",
       "      <td>23.225</td>\n",
       "      <td>23.925000</td>\n",
       "      <td>24.200</td>\n",
       "      <td>24.800000</td>\n",
       "      <td>20.55</td>\n",
       "      <td>18.25</td>\n",
       "      <td>20.3</td>\n",
       "      <td>12.86</td>\n",
       "      <td>1</td>\n",
       "      <td>0.48</td>\n",
       "      <td>24.500000</td>\n",
       "    </tr>\n",
       "    <tr>\n",
       "      <th>2016-06-01 03:00:00</th>\n",
       "      <td>24.900</td>\n",
       "      <td>21.600</td>\n",
       "      <td>24.500000</td>\n",
       "      <td>24.200</td>\n",
       "      <td>24.800000</td>\n",
       "      <td>19.75</td>\n",
       "      <td>18.10</td>\n",
       "      <td>19.6</td>\n",
       "      <td>12.86</td>\n",
       "      <td>1</td>\n",
       "      <td>0.48</td>\n",
       "      <td>24.500000</td>\n",
       "    </tr>\n",
       "    <tr>\n",
       "      <th>2016-06-01 04:00:00</th>\n",
       "      <td>24.700</td>\n",
       "      <td>21.000</td>\n",
       "      <td>23.533333</td>\n",
       "      <td>23.400</td>\n",
       "      <td>24.166667</td>\n",
       "      <td>19.70</td>\n",
       "      <td>17.90</td>\n",
       "      <td>19.3</td>\n",
       "      <td>12.86</td>\n",
       "      <td>1</td>\n",
       "      <td>0.48</td>\n",
       "      <td>24.133333</td>\n",
       "    </tr>\n",
       "  </tbody>\n",
       "</table>\n",
       "</div>"
      ],
      "text/plain": [
       "                     riocentro  guaratiba  jardim_botanico  santa_cruz  \\\n",
       "data                                                                     \n",
       "2016-06-01 00:00:00     25.125     22.350        24.475000      25.125   \n",
       "2016-06-01 01:00:00     24.975     22.725        24.025000      24.800   \n",
       "2016-06-01 02:00:00     24.975     23.225        23.925000      24.200   \n",
       "2016-06-01 03:00:00     24.900     21.600        24.500000      24.200   \n",
       "2016-06-01 04:00:00     24.700     21.000        23.533333      23.400   \n",
       "\n",
       "                     sao_cristovao  marambaia  xerem  ecologia  altitude  \\\n",
       "data                                                                       \n",
       "2016-06-01 00:00:00      25.025000      21.60  19.05      20.8     12.86   \n",
       "2016-06-01 01:00:00      24.950000      21.20  18.50      20.6     12.86   \n",
       "2016-06-01 02:00:00      24.800000      20.55  18.25      20.3     12.86   \n",
       "2016-06-01 03:00:00      24.800000      19.75  18.10      19.6     12.86   \n",
       "2016-06-01 04:00:00      24.166667      19.70  17.90      19.3     12.86   \n",
       "\n",
       "                     m_feat  slope      y_var  \n",
       "data                                           \n",
       "2016-06-01 00:00:00       1   0.48  24.800000  \n",
       "2016-06-01 01:00:00       1   0.48  24.550000  \n",
       "2016-06-01 02:00:00       1   0.48  24.500000  \n",
       "2016-06-01 03:00:00       1   0.48  24.500000  \n",
       "2016-06-01 04:00:00       1   0.48  24.133333  "
      ]
     },
     "execution_count": 13,
     "metadata": {},
     "output_type": "execute_result"
    }
   ],
   "source": [
    "temp1.head()"
   ]
  },
  {
   "cell_type": "markdown",
   "metadata": {},
   "source": [
    "## alto da boa vista \n",
    "357.63 , 156.79, 5.49\n"
   ]
  },
  {
   "cell_type": "code",
   "execution_count": 5,
   "metadata": {},
   "outputs": [],
   "source": [
    "temp2['altitude']= np.full((len(temp2)),357.63)\n",
    "temp2['m_feat']= np.full((len(temp2)),156.79 )\n",
    "temp2['slope']= np.full((len(temp2)),5.49)\n",
    "temp2['y_var']= df.alto_da_boa_vista"
   ]
  },
  {
   "cell_type": "markdown",
   "metadata": {},
   "source": [
    "## copacabana\n",
    "15.74, 288.43, 0.96"
   ]
  },
  {
   "cell_type": "code",
   "execution_count": 6,
   "metadata": {},
   "outputs": [],
   "source": [
    "temp3['altitude']= np.full((len(temp3)),15.74)\n",
    "temp3['m_feat']= np.full((len(temp3)),288.43 )\n",
    "temp3['slope']= np.full((len(temp3)),0.96)\n",
    "temp3['y_var']= df.alto_da_boa_vista"
   ]
  },
  {
   "cell_type": "markdown",
   "metadata": {},
   "source": [
    "## conjunto principal"
   ]
  },
  {
   "cell_type": "code",
   "execution_count": 7,
   "metadata": {},
   "outputs": [],
   "source": [
    "temp1 = temp1.reset_index().drop(['data'],axis=1)\n",
    "temp2 = temp2.reset_index().drop(['data'],axis=1)\n",
    "temp3 = temp3.reset_index().drop(['data'],axis=1)"
   ]
  },
  {
   "cell_type": "code",
   "execution_count": 8,
   "metadata": {},
   "outputs": [],
   "source": [
    "dados = pd.concat([temp1,temp2,temp3],axis=0)"
   ]
  },
  {
   "cell_type": "code",
   "execution_count": 9,
   "metadata": {},
   "outputs": [],
   "source": [
    "dados = dados.drop(['guaratiba'],axis=1)\n"
   ]
  },
  {
   "cell_type": "code",
   "execution_count": 10,
   "metadata": {},
   "outputs": [],
   "source": [
    "#tirando nodata\n",
    "dados = dados.fillna(method='backfill')"
   ]
  },
  {
   "cell_type": "markdown",
   "metadata": {},
   "source": [
    "# Aplicando os algoritmos de ML"
   ]
  },
  {
   "cell_type": "code",
   "execution_count": 11,
   "metadata": {},
   "outputs": [],
   "source": [
    "#separando variáveis\n",
    "y = dados.iloc[:,10].values\n",
    "x = dados.iloc[:,:10].values\n"
   ]
  },
  {
   "cell_type": "code",
   "execution_count": 12,
   "metadata": {},
   "outputs": [],
   "source": [
    "#padronizando os dados \n",
    "from sklearn.preprocessing import StandardScaler"
   ]
  },
  {
   "cell_type": "code",
   "execution_count": 13,
   "metadata": {},
   "outputs": [],
   "source": [
    "Stander = StandardScaler()"
   ]
  },
  {
   "cell_type": "code",
   "execution_count": 14,
   "metadata": {},
   "outputs": [],
   "source": [
    "x=Stander.fit(x).transform(x)"
   ]
  },
  {
   "cell_type": "code",
   "execution_count": 15,
   "metadata": {},
   "outputs": [
    {
     "data": {
      "text/plain": [
       "30672"
      ]
     },
     "execution_count": 15,
     "metadata": {},
     "output_type": "execute_result"
    }
   ],
   "source": [
    "len(y)"
   ]
  },
  {
   "cell_type": "code",
   "execution_count": 16,
   "metadata": {},
   "outputs": [
    {
     "data": {
      "text/plain": [
       "23004.0"
      ]
     },
     "execution_count": 16,
     "metadata": {},
     "output_type": "execute_result"
    }
   ],
   "source": [
    "30672*0.75"
   ]
  },
  {
   "cell_type": "code",
   "execution_count": 17,
   "metadata": {},
   "outputs": [],
   "source": [
    "y_train = y[:23004]\n",
    "y_test = y[23004:]\n",
    "X_train = x[:23004]\n",
    "X_test = x[23004:]"
   ]
  },
  {
   "cell_type": "markdown",
   "metadata": {},
   "source": [
    "# Testando os algoritmos"
   ]
  },
  {
   "cell_type": "code",
   "execution_count": 18,
   "metadata": {},
   "outputs": [],
   "source": [
    "# importando bibliotecas\n",
    "from sklearn.metrics import mean_squared_error\n",
    "from sklearn.tree import DecisionTreeRegressor\n",
    "from sklearn.ensemble import ExtraTreesRegressor\n",
    "from sklearn.neighbors import KNeighborsRegressor\n",
    "from sklearn.ensemble import GradientBoostingRegressor\n",
    "from sklearn.ensemble import AdaBoostRegressor\n",
    "from sklearn.multioutput import MultiOutputRegressor\n",
    "from sklearn.ensemble import RandomForestRegressor\n",
    "from sklearn.svm import SVR, SVC\n",
    "from sklearn.neural_network import MLPRegressor\n",
    "\n"
   ]
  },
  {
   "cell_type": "code",
   "execution_count": 74,
   "metadata": {},
   "outputs": [],
   "source": [
    "# plota grafico de dispersao e linha de tendencia para o modelo\n",
    "def plot_show(X_test,y_test,previsao,title,name):\n",
    "    #plt.figure(figsize=(5,5))\n",
    "    z= np.polyfit(y_test.flatten(),previsao.flatten(),1)\n",
    "    p=np.poly1d(z)\n",
    "    plt.scatter(y_test,previsao,color='k',marker='+')\n",
    "    plt.title(title)\n",
    "    plt.plot(y_test,p(y_test),'r--')\n",
    "    plt.show()\n",
    "    print('RMSE for ',name,' is ',y_mse[name])\n",
    "    print('R**2 ',name,' is ',y_r2[name])"
   ]
  },
  {
   "cell_type": "code",
   "execution_count": 75,
   "metadata": {},
   "outputs": [],
   "source": [
    "# plota grafico de dispersao e linha de tendencia para o modelo\n",
    "def plot_l(y_test,previsao):\n",
    "    #plt.figure(figsize=(5,5))\n",
    "    z= np.polyfit(y_test.flatten(),previsao.flatten(),1)\n",
    "    p=np.poly1d(z)\n",
    "    return p"
   ]
  },
  {
   "cell_type": "code",
   "execution_count": 19,
   "metadata": {},
   "outputs": [],
   "source": [
    "# cria dicionario com os algorimos utilizados \n",
    "ESTIMATORS = {    \n",
    "    \"K-nn\": KNeighborsRegressor(),                        \n",
    "    \"RandomForestRegressor\": RandomForestRegressor(max_depth=50, random_state=2),\n",
    "    \"Decision Tree Regressor\":DecisionTreeRegressor(max_depth=5),\n",
    "    \"SVC\":SVR(),\n",
    "    #\"NeuralNetwork\": MLPRegressor(solver='adam', random_state=1,\n",
    "     #                             hidden_layer_sizes=(4,4,4,2)),\n",
    "    \"GBR\" :GradientBoostingRegressor(n_estimators=35),\n",
    "    \"AdaB\" :AdaBoostRegressor(n_estimators=5)\n",
    "}"
   ]
  },
  {
   "cell_type": "code",
   "execution_count": 20,
   "metadata": {},
   "outputs": [],
   "source": [
    "#estimador = DecisionTreeRegressor()\n",
    "estimador = KNeighborsRegressor()"
   ]
  },
  {
   "cell_type": "code",
   "execution_count": 21,
   "metadata": {},
   "outputs": [
    {
     "data": {
      "text/plain": [
       "KNeighborsRegressor(algorithm='auto', leaf_size=30, metric='minkowski',\n",
       "          metric_params=None, n_jobs=None, n_neighbors=5, p=2,\n",
       "          weights='uniform')"
      ]
     },
     "execution_count": 21,
     "metadata": {},
     "output_type": "execute_result"
    }
   ],
   "source": [
    "estimador.fit(X_train,y_train)"
   ]
  },
  {
   "cell_type": "code",
   "execution_count": 22,
   "metadata": {},
   "outputs": [],
   "source": [
    "previsao = estimador.predict(X_test)"
   ]
  },
  {
   "cell_type": "code",
   "execution_count": 23,
   "metadata": {},
   "outputs": [
    {
     "name": "stdout",
     "output_type": "stream",
     "text": [
      "10.925574095809424\n",
      "0.4390199541154987\n"
     ]
    }
   ],
   "source": [
    "print(mean_squared_error(y_test,previsao))\n",
    "print(estimador.score(X_test,y_test))"
   ]
  },
  {
   "cell_type": "code",
   "execution_count": 24,
   "metadata": {},
   "outputs": [
    {
     "name": "stderr",
     "output_type": "stream",
     "text": [
      "/home/pensario/.local/lib/python3.6/site-packages/sklearn/ensemble/forest.py:246: FutureWarning: The default value of n_estimators will change from 10 in version 0.20 to 100 in 0.22.\n",
      "  \"10 in version 0.20 to 100 in 0.22.\", FutureWarning)\n",
      "/home/pensario/.local/lib/python3.6/site-packages/sklearn/svm/base.py:196: FutureWarning: The default value of gamma will change from 'auto' to 'scale' in version 0.22 to account better for unscaled features. Set gamma explicitly to 'auto' or 'scale' to avoid this warning.\n",
      "  \"avoid this warning.\", FutureWarning)\n"
     ]
    }
   ],
   "source": [
    "# aplicando os algortimos\n",
    "y_test_predict = dict()\n",
    "y_mse = dict()\n",
    "y_r2 = dict()\n",
    "#fig = plt.figure(figsize=(15,10))\n",
    "i=1\n",
    "for name, estimator in ESTIMATORS.items():    \n",
    "    estimator.fit(X_train, y_train)                    # fit() with instantiated object\n",
    "    y_test_predict[name] = previsao = estimator.predict(X_test)   # Make predictions and save it in dict under key: name\n",
    "    y_mse[name] = mean_squared_error(y_test, estimator.predict(X_test))\n",
    "    y_r2[name] = estimator.score(X_test,y_test)\n",
    "    \n",
    "    #grafico\n",
    "#     z= np.polyfit(y_test.flatten(),previsao.flatten(),1)\n",
    "#     p=np.poly1d(z)\n",
    "#     ax=fig.add_subplot(2,3,i)\n",
    "#     ax.scatter(y_test,previsao,color='k',marker='+')\n",
    "#     ax.set_xlabel('Observado')\n",
    "#     ax.set_ylabel('Estimado')\n",
    "#     ax.set_title(name)\n",
    "#     ax.plot(y_test,p(y_test),'r--')\n",
    "#     i+=1\n",
    "\n",
    "# plt.tight_layout()\n",
    "# #plt.savefig('../../../Qualificacao/MML_evaporacao_INMET.png')\n",
    "# plt.show()\n",
    "\n",
    "    \n",
    "\n",
    "R=pd.DataFrame({'mse':list(y_mse.values()),    # Padronizando o os dois\n",
    "                 'R2':list(y_r2.values())}, \n",
    "                index=list(y_r2.keys()))"
   ]
  },
  {
   "cell_type": "code",
   "execution_count": 25,
   "metadata": {},
   "outputs": [
    {
     "data": {
      "text/html": [
       "<div>\n",
       "<style scoped>\n",
       "    .dataframe tbody tr th:only-of-type {\n",
       "        vertical-align: middle;\n",
       "    }\n",
       "\n",
       "    .dataframe tbody tr th {\n",
       "        vertical-align: top;\n",
       "    }\n",
       "\n",
       "    .dataframe thead th {\n",
       "        text-align: right;\n",
       "    }\n",
       "</style>\n",
       "<table border=\"1\" class=\"dataframe\">\n",
       "  <thead>\n",
       "    <tr style=\"text-align: right;\">\n",
       "      <th></th>\n",
       "      <th>mse</th>\n",
       "      <th>R2</th>\n",
       "    </tr>\n",
       "  </thead>\n",
       "  <tbody>\n",
       "    <tr>\n",
       "      <th>K-nn</th>\n",
       "      <td>10.925574</td>\n",
       "      <td>0.439020</td>\n",
       "    </tr>\n",
       "    <tr>\n",
       "      <th>RandomForestRegressor</th>\n",
       "      <td>0.182630</td>\n",
       "      <td>0.990623</td>\n",
       "    </tr>\n",
       "    <tr>\n",
       "      <th>Decision Tree Regressor</th>\n",
       "      <td>1.589724</td>\n",
       "      <td>0.918375</td>\n",
       "    </tr>\n",
       "    <tr>\n",
       "      <th>SVC</th>\n",
       "      <td>3.085551</td>\n",
       "      <td>0.841571</td>\n",
       "    </tr>\n",
       "    <tr>\n",
       "      <th>GBR</th>\n",
       "      <td>1.129124</td>\n",
       "      <td>0.942024</td>\n",
       "    </tr>\n",
       "    <tr>\n",
       "      <th>AdaB</th>\n",
       "      <td>2.335729</td>\n",
       "      <td>0.880071</td>\n",
       "    </tr>\n",
       "  </tbody>\n",
       "</table>\n",
       "</div>"
      ],
      "text/plain": [
       "                               mse        R2\n",
       "K-nn                     10.925574  0.439020\n",
       "RandomForestRegressor     0.182630  0.990623\n",
       "Decision Tree Regressor   1.589724  0.918375\n",
       "SVC                       3.085551  0.841571\n",
       "GBR                       1.129124  0.942024\n",
       "AdaB                      2.335729  0.880071"
      ]
     },
     "execution_count": 25,
     "metadata": {},
     "output_type": "execute_result"
    }
   ],
   "source": [
    "R"
   ]
  },
  {
   "cell_type": "markdown",
   "metadata": {},
   "source": [
    "# Teste "
   ]
  },
  {
   "cell_type": "code",
   "execution_count": 186,
   "metadata": {},
   "outputs": [
    {
     "data": {
      "text/plain": [
       "array([ 0.0880346 ,  0.04097513,  0.05672916,  0.03672865, -0.45679216,\n",
       "       -0.62646686, -0.57054586, -0.71598516, -0.70710678, -0.81076696])"
      ]
     },
     "execution_count": 186,
     "metadata": {},
     "output_type": "execute_result"
    }
   ],
   "source": [
    "x[1]"
   ]
  },
  {
   "cell_type": "code",
   "execution_count": 188,
   "metadata": {},
   "outputs": [
    {
     "data": {
      "text/plain": [
       "array([24.4985])"
      ]
     },
     "execution_count": 188,
     "metadata": {},
     "output_type": "execute_result"
    }
   ],
   "source": [
    "estimador.predict([x[1]])"
   ]
  },
  {
   "cell_type": "code",
   "execution_count": 189,
   "metadata": {},
   "outputs": [
    {
     "data": {
      "text/plain": [
       "array([24.975, 24.025, 24.8  , 24.95 , 21.2  , 18.5  , 20.6  , 12.86 ,\n",
       "        1.   ,  0.48 ])"
      ]
     },
     "execution_count": 189,
     "metadata": {},
     "output_type": "execute_result"
    }
   ],
   "source": [
    "Stander.inverse_transform(x[1])"
   ]
  },
  {
   "cell_type": "code",
   "execution_count": 190,
   "metadata": {},
   "outputs": [
    {
     "data": {
      "text/html": [
       "<div>\n",
       "<style scoped>\n",
       "    .dataframe tbody tr th:only-of-type {\n",
       "        vertical-align: middle;\n",
       "    }\n",
       "\n",
       "    .dataframe tbody tr th {\n",
       "        vertical-align: top;\n",
       "    }\n",
       "\n",
       "    .dataframe thead th {\n",
       "        text-align: right;\n",
       "    }\n",
       "</style>\n",
       "<table border=\"1\" class=\"dataframe\">\n",
       "  <thead>\n",
       "    <tr style=\"text-align: right;\">\n",
       "      <th></th>\n",
       "      <th>riocentro</th>\n",
       "      <th>jardim_botanico</th>\n",
       "      <th>santa_cruz</th>\n",
       "      <th>sao_cristovao</th>\n",
       "      <th>marambaia</th>\n",
       "      <th>xerem</th>\n",
       "      <th>ecologia</th>\n",
       "      <th>altitude</th>\n",
       "      <th>m_feat</th>\n",
       "      <th>slope</th>\n",
       "      <th>y_var</th>\n",
       "    </tr>\n",
       "  </thead>\n",
       "  <tbody>\n",
       "    <tr>\n",
       "      <th>0</th>\n",
       "      <td>25.125</td>\n",
       "      <td>24.475000</td>\n",
       "      <td>25.125</td>\n",
       "      <td>25.025000</td>\n",
       "      <td>21.60</td>\n",
       "      <td>19.05</td>\n",
       "      <td>20.8</td>\n",
       "      <td>12.86</td>\n",
       "      <td>1.0</td>\n",
       "      <td>0.48</td>\n",
       "      <td>24.800000</td>\n",
       "    </tr>\n",
       "    <tr>\n",
       "      <th>1</th>\n",
       "      <td>24.975</td>\n",
       "      <td>24.025000</td>\n",
       "      <td>24.800</td>\n",
       "      <td>24.950000</td>\n",
       "      <td>21.20</td>\n",
       "      <td>18.50</td>\n",
       "      <td>20.6</td>\n",
       "      <td>12.86</td>\n",
       "      <td>1.0</td>\n",
       "      <td>0.48</td>\n",
       "      <td>24.550000</td>\n",
       "    </tr>\n",
       "    <tr>\n",
       "      <th>2</th>\n",
       "      <td>24.975</td>\n",
       "      <td>23.925000</td>\n",
       "      <td>24.200</td>\n",
       "      <td>24.800000</td>\n",
       "      <td>20.55</td>\n",
       "      <td>18.25</td>\n",
       "      <td>20.3</td>\n",
       "      <td>12.86</td>\n",
       "      <td>1.0</td>\n",
       "      <td>0.48</td>\n",
       "      <td>24.500000</td>\n",
       "    </tr>\n",
       "    <tr>\n",
       "      <th>3</th>\n",
       "      <td>24.900</td>\n",
       "      <td>24.500000</td>\n",
       "      <td>24.200</td>\n",
       "      <td>24.800000</td>\n",
       "      <td>19.75</td>\n",
       "      <td>18.10</td>\n",
       "      <td>19.6</td>\n",
       "      <td>12.86</td>\n",
       "      <td>1.0</td>\n",
       "      <td>0.48</td>\n",
       "      <td>24.500000</td>\n",
       "    </tr>\n",
       "    <tr>\n",
       "      <th>4</th>\n",
       "      <td>24.700</td>\n",
       "      <td>23.533333</td>\n",
       "      <td>23.400</td>\n",
       "      <td>24.166667</td>\n",
       "      <td>19.70</td>\n",
       "      <td>17.90</td>\n",
       "      <td>19.3</td>\n",
       "      <td>12.86</td>\n",
       "      <td>1.0</td>\n",
       "      <td>0.48</td>\n",
       "      <td>24.133333</td>\n",
       "    </tr>\n",
       "  </tbody>\n",
       "</table>\n",
       "</div>"
      ],
      "text/plain": [
       "   riocentro  jardim_botanico  santa_cruz  sao_cristovao  marambaia  xerem  \\\n",
       "0     25.125        24.475000      25.125      25.025000      21.60  19.05   \n",
       "1     24.975        24.025000      24.800      24.950000      21.20  18.50   \n",
       "2     24.975        23.925000      24.200      24.800000      20.55  18.25   \n",
       "3     24.900        24.500000      24.200      24.800000      19.75  18.10   \n",
       "4     24.700        23.533333      23.400      24.166667      19.70  17.90   \n",
       "\n",
       "   ecologia  altitude  m_feat  slope      y_var  \n",
       "0      20.8     12.86     1.0   0.48  24.800000  \n",
       "1      20.6     12.86     1.0   0.48  24.550000  \n",
       "2      20.3     12.86     1.0   0.48  24.500000  \n",
       "3      19.6     12.86     1.0   0.48  24.500000  \n",
       "4      19.3     12.86     1.0   0.48  24.133333  "
      ]
     },
     "execution_count": 190,
     "metadata": {},
     "output_type": "execute_result"
    }
   ],
   "source": [
    "dados.head()"
   ]
  },
  {
   "cell_type": "code",
   "execution_count": 191,
   "metadata": {},
   "outputs": [
    {
     "data": {
      "text/html": [
       "<div>\n",
       "<style scoped>\n",
       "    .dataframe tbody tr th:only-of-type {\n",
       "        vertical-align: middle;\n",
       "    }\n",
       "\n",
       "    .dataframe tbody tr th {\n",
       "        vertical-align: top;\n",
       "    }\n",
       "\n",
       "    .dataframe thead th {\n",
       "        text-align: right;\n",
       "    }\n",
       "</style>\n",
       "<table border=\"1\" class=\"dataframe\">\n",
       "  <thead>\n",
       "    <tr style=\"text-align: right;\">\n",
       "      <th></th>\n",
       "      <th>riocentro</th>\n",
       "      <th>alto_da_boa_vista</th>\n",
       "      <th>guaratiba</th>\n",
       "      <th>iraja</th>\n",
       "      <th>jardim_botanico</th>\n",
       "      <th>santa_cruz</th>\n",
       "      <th>sao_cristovao</th>\n",
       "      <th>marambaia</th>\n",
       "      <th>xerem</th>\n",
       "      <th>f_copacabana</th>\n",
       "      <th>ecologia</th>\n",
       "    </tr>\n",
       "    <tr>\n",
       "      <th>data</th>\n",
       "      <th></th>\n",
       "      <th></th>\n",
       "      <th></th>\n",
       "      <th></th>\n",
       "      <th></th>\n",
       "      <th></th>\n",
       "      <th></th>\n",
       "      <th></th>\n",
       "      <th></th>\n",
       "      <th></th>\n",
       "      <th></th>\n",
       "    </tr>\n",
       "  </thead>\n",
       "  <tbody>\n",
       "    <tr>\n",
       "      <th>2016-06-01 00:00:00</th>\n",
       "      <td>25.125</td>\n",
       "      <td>21.000000</td>\n",
       "      <td>22.350</td>\n",
       "      <td>24.800000</td>\n",
       "      <td>24.475000</td>\n",
       "      <td>25.125</td>\n",
       "      <td>25.025000</td>\n",
       "      <td>21.60</td>\n",
       "      <td>19.05</td>\n",
       "      <td>22.90</td>\n",
       "      <td>20.8</td>\n",
       "    </tr>\n",
       "    <tr>\n",
       "      <th>2016-06-01 01:00:00</th>\n",
       "      <td>24.975</td>\n",
       "      <td>21.000000</td>\n",
       "      <td>22.725</td>\n",
       "      <td>24.550000</td>\n",
       "      <td>24.025000</td>\n",
       "      <td>24.800</td>\n",
       "      <td>24.950000</td>\n",
       "      <td>21.20</td>\n",
       "      <td>18.50</td>\n",
       "      <td>22.80</td>\n",
       "      <td>20.6</td>\n",
       "    </tr>\n",
       "    <tr>\n",
       "      <th>2016-06-01 02:00:00</th>\n",
       "      <td>24.975</td>\n",
       "      <td>20.950000</td>\n",
       "      <td>23.225</td>\n",
       "      <td>24.500000</td>\n",
       "      <td>23.925000</td>\n",
       "      <td>24.200</td>\n",
       "      <td>24.800000</td>\n",
       "      <td>20.55</td>\n",
       "      <td>18.25</td>\n",
       "      <td>23.10</td>\n",
       "      <td>20.3</td>\n",
       "    </tr>\n",
       "    <tr>\n",
       "      <th>2016-06-01 03:00:00</th>\n",
       "      <td>24.900</td>\n",
       "      <td>21.000000</td>\n",
       "      <td>21.600</td>\n",
       "      <td>24.500000</td>\n",
       "      <td>24.500000</td>\n",
       "      <td>24.200</td>\n",
       "      <td>24.800000</td>\n",
       "      <td>19.75</td>\n",
       "      <td>18.10</td>\n",
       "      <td>23.15</td>\n",
       "      <td>19.6</td>\n",
       "    </tr>\n",
       "    <tr>\n",
       "      <th>2016-06-01 04:00:00</th>\n",
       "      <td>24.700</td>\n",
       "      <td>20.166667</td>\n",
       "      <td>21.000</td>\n",
       "      <td>24.133333</td>\n",
       "      <td>23.533333</td>\n",
       "      <td>23.400</td>\n",
       "      <td>24.166667</td>\n",
       "      <td>19.70</td>\n",
       "      <td>17.90</td>\n",
       "      <td>22.70</td>\n",
       "      <td>19.3</td>\n",
       "    </tr>\n",
       "  </tbody>\n",
       "</table>\n",
       "</div>"
      ],
      "text/plain": [
       "                     riocentro  alto_da_boa_vista  guaratiba      iraja  \\\n",
       "data                                                                      \n",
       "2016-06-01 00:00:00     25.125          21.000000     22.350  24.800000   \n",
       "2016-06-01 01:00:00     24.975          21.000000     22.725  24.550000   \n",
       "2016-06-01 02:00:00     24.975          20.950000     23.225  24.500000   \n",
       "2016-06-01 03:00:00     24.900          21.000000     21.600  24.500000   \n",
       "2016-06-01 04:00:00     24.700          20.166667     21.000  24.133333   \n",
       "\n",
       "                     jardim_botanico  santa_cruz  sao_cristovao  marambaia  \\\n",
       "data                                                                         \n",
       "2016-06-01 00:00:00        24.475000      25.125      25.025000      21.60   \n",
       "2016-06-01 01:00:00        24.025000      24.800      24.950000      21.20   \n",
       "2016-06-01 02:00:00        23.925000      24.200      24.800000      20.55   \n",
       "2016-06-01 03:00:00        24.500000      24.200      24.800000      19.75   \n",
       "2016-06-01 04:00:00        23.533333      23.400      24.166667      19.70   \n",
       "\n",
       "                     xerem  f_copacabana  ecologia  \n",
       "data                                                \n",
       "2016-06-01 00:00:00  19.05         22.90      20.8  \n",
       "2016-06-01 01:00:00  18.50         22.80      20.6  \n",
       "2016-06-01 02:00:00  18.25         23.10      20.3  \n",
       "2016-06-01 03:00:00  18.10         23.15      19.6  \n",
       "2016-06-01 04:00:00  17.90         22.70      19.3  "
      ]
     },
     "execution_count": 191,
     "metadata": {},
     "output_type": "execute_result"
    }
   ],
   "source": [
    "df.head()"
   ]
  },
  {
   "cell_type": "code",
   "execution_count": 192,
   "metadata": {},
   "outputs": [],
   "source": [
    "x_guaratiba = np.array([24.975, 24.025, 24.8  , 24.95 ,\n",
    "                        21.2  , 18.5  , 20.6  , \n",
    "                        5.83 , 1., 0.11 ])"
   ]
  },
  {
   "cell_type": "code",
   "execution_count": 194,
   "metadata": {},
   "outputs": [],
   "source": [
    "x_guaratiba = Stander.transform([x_guaratiba])"
   ]
  },
  {
   "cell_type": "code",
   "execution_count": 195,
   "metadata": {},
   "outputs": [
    {
     "data": {
      "text/plain": [
       "array([[ 0.0880346 ,  0.04097513,  0.05672916,  0.03672865, -0.45679216,\n",
       "        -0.62646686, -0.57054586, -0.75942002, -0.70710678, -0.97469252]])"
      ]
     },
     "execution_count": 195,
     "metadata": {},
     "output_type": "execute_result"
    }
   ],
   "source": [
    "x_guaratiba"
   ]
  },
  {
   "cell_type": "code",
   "execution_count": 196,
   "metadata": {},
   "outputs": [
    {
     "data": {
      "text/plain": [
       "array([ 0.0880346 ,  0.04097513,  0.05672916,  0.03672865, -0.45679216,\n",
       "       -0.62646686, -0.57054586, -0.75942002, -0.70710678, -0.97469252])"
      ]
     },
     "execution_count": 196,
     "metadata": {},
     "output_type": "execute_result"
    }
   ],
   "source": [
    "x_guaratiba[0]"
   ]
  },
  {
   "cell_type": "code",
   "execution_count": 198,
   "metadata": {
    "scrolled": true
   },
   "outputs": [
    {
     "data": {
      "text/plain": [
       "array([24.4985])"
      ]
     },
     "execution_count": 198,
     "metadata": {},
     "output_type": "execute_result"
    }
   ],
   "source": [
    "estimador.predict([x_guaratiba[0]])"
   ]
  },
  {
   "cell_type": "markdown",
   "metadata": {},
   "source": [
    "# Exportando dados e modelos"
   ]
  },
  {
   "cell_type": "code",
   "execution_count": 26,
   "metadata": {
    "scrolled": true
   },
   "outputs": [],
   "source": [
    "# conjunto treinamento\n",
    "dados.to_csv('../dados_meteorologicos/conjunto_trein_val_062016_072017.csv')"
   ]
  },
  {
   "cell_type": "code",
   "execution_count": 27,
   "metadata": {},
   "outputs": [],
   "source": [
    "knn = KNeighborsRegressor()                        \n",
    "RF = RandomForestRegressor(max_depth=50, random_state=2)\n",
    "DT = DecisionTreeRegressor(max_depth=5)\n",
    "SVR_pred = SVR()\n",
    "GBR = GradientBoostingRegressor(n_estimators=35)\n",
    "AdaB = AdaBoostRegressor(n_estimators=5)"
   ]
  },
  {
   "cell_type": "code",
   "execution_count": 28,
   "metadata": {},
   "outputs": [
    {
     "name": "stderr",
     "output_type": "stream",
     "text": [
      "/home/pensario/.local/lib/python3.6/site-packages/sklearn/ensemble/forest.py:246: FutureWarning: The default value of n_estimators will change from 10 in version 0.20 to 100 in 0.22.\n",
      "  \"10 in version 0.20 to 100 in 0.22.\", FutureWarning)\n",
      "/home/pensario/.local/lib/python3.6/site-packages/sklearn/svm/base.py:196: FutureWarning: The default value of gamma will change from 'auto' to 'scale' in version 0.22 to account better for unscaled features. Set gamma explicitly to 'auto' or 'scale' to avoid this warning.\n",
      "  \"avoid this warning.\", FutureWarning)\n"
     ]
    },
    {
     "data": {
      "text/plain": [
       "AdaBoostRegressor(base_estimator=None, learning_rate=1.0, loss='linear',\n",
       "         n_estimators=5, random_state=None)"
      ]
     },
     "execution_count": 28,
     "metadata": {},
     "output_type": "execute_result"
    }
   ],
   "source": [
    "knn.fit(X_train,y_train)\n",
    "RF.fit(X_train,y_train)\n",
    "DT.fit(X_train,y_train)\n",
    "SVR_pred.fit(X_train,y_train)\n",
    "GBR.fit(X_train,y_train)\n",
    "AdaB.fit(X_train,y_train)"
   ]
  },
  {
   "cell_type": "code",
   "execution_count": 29,
   "metadata": {},
   "outputs": [],
   "source": [
    "from sklearn.externals import joblib"
   ]
  },
  {
   "cell_type": "code",
   "execution_count": 30,
   "metadata": {},
   "outputs": [
    {
     "data": {
      "text/plain": [
       "['../modelos/GBR.pk']"
      ]
     },
     "execution_count": 30,
     "metadata": {},
     "output_type": "execute_result"
    }
   ],
   "source": [
    "joblib.dump(AdaB,'../modelos/AdaB.pk') #AdaBoostRegressor\n",
    "joblib.dump(RF,'../modelos/RF.pk') #Random forest\n",
    "joblib.dump(DT,'../modelos/DT.pk') #arvore de decisao\n",
    "joblib.dump(SVR_pred,'../modelos/SVR.pk') #vetor suporte\n",
    "joblib.dump(GBR,'../modelos/GBR.pk') #gradiente de boosting\n",
    "\n"
   ]
  },
  {
   "cell_type": "code",
   "execution_count": 222,
   "metadata": {},
   "outputs": [
    {
     "data": {
      "text/plain": [
       "['../modelos/transform_dados.pk']"
      ]
     },
     "execution_count": 222,
     "metadata": {},
     "output_type": "execute_result"
    }
   ],
   "source": [
    "joblib.dump(Stander,'../modelos/transform_dados.pk')"
   ]
  },
  {
   "cell_type": "code",
   "execution_count": 206,
   "metadata": {},
   "outputs": [
    {
     "data": {
      "text/plain": [
       "array([24.4985])"
      ]
     },
     "execution_count": 206,
     "metadata": {},
     "output_type": "execute_result"
    }
   ],
   "source": []
  },
  {
   "cell_type": "code",
   "execution_count": 223,
   "metadata": {},
   "outputs": [],
   "source": [
    "transform = joblib.load('../modelos/transform_dados.pk')"
   ]
  }
 ],
 "metadata": {
  "kernelspec": {
   "display_name": "Python 3",
   "language": "python",
   "name": "python3"
  },
  "language_info": {
   "codemirror_mode": {
    "name": "ipython",
    "version": 3
   },
   "file_extension": ".py",
   "mimetype": "text/x-python",
   "name": "python",
   "nbconvert_exporter": "python",
   "pygments_lexer": "ipython3",
   "version": "3.6.8"
  }
 },
 "nbformat": 4,
 "nbformat_minor": 2
}
