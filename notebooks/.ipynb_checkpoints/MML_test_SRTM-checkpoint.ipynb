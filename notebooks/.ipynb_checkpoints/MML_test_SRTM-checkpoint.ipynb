{
 "cells": [
  {
   "cell_type": "code",
   "execution_count": 1,
   "metadata": {},
   "outputs": [
    {
     "name": "stderr",
     "output_type": "stream",
     "text": [
      "/usr/lib/python3.6/importlib/_bootstrap.py:219: RuntimeWarning: numpy.ufunc size changed, may indicate binary incompatibility. Expected 216, got 192\n",
      "  return f(*args, **kwds)\n"
     ]
    }
   ],
   "source": [
    "import pandas as pd\n",
    "import numpy as np\n",
    "import matplotlib.pyplot as plt\n",
    "%matplotlib inline"
   ]
  },
  {
   "cell_type": "code",
   "execution_count": 2,
   "metadata": {},
   "outputs": [],
   "source": [
    "df = pd.read_pickle('../dados_meteorologicos/T_06216072017.csv')"
   ]
  },
  {
   "cell_type": "markdown",
   "metadata": {},
   "source": [
    "# Preparando os dados\n",
    "\n",
    "## Alvos: Iraja, alto da boa vista, copacaba"
   ]
  },
  {
   "cell_type": "code",
   "execution_count": 14,
   "metadata": {},
   "outputs": [],
   "source": [
    "temp1 = df.drop(['alto_da_boa_vista','iraja','f_copacabana'],axis=1)\n",
    "temp2 = df.drop(['alto_da_boa_vista','iraja','f_copacabana'],axis=1)\n",
    "temp3 = df.drop(['alto_da_boa_vista','iraja','f_copacabana'],axis=1)"
   ]
  },
  {
   "cell_type": "markdown",
   "metadata": {},
   "source": [
    "## Iajá indice topograficos \n",
    "\n",
    "alt:12.86\n",
    "m_feat : 1\n",
    "slope: 0.48\n",
    "\n"
   ]
  },
  {
   "cell_type": "code",
   "execution_count": 12,
   "metadata": {},
   "outputs": [],
   "source": [
    "temp1['altitude']= np.full((len(temp1)),12.86)\n",
    "temp1['m_feat']= np.full((len(temp1)),1)\n",
    "temp1['slope']= np.full((len(temp1)),0.48)\n",
    "temp1['y_var']= df.iraja"
   ]
  },
  {
   "cell_type": "code",
   "execution_count": 13,
   "metadata": {},
   "outputs": [
    {
     "data": {
      "text/html": [
       "<div>\n",
       "<style scoped>\n",
       "    .dataframe tbody tr th:only-of-type {\n",
       "        vertical-align: middle;\n",
       "    }\n",
       "\n",
       "    .dataframe tbody tr th {\n",
       "        vertical-align: top;\n",
       "    }\n",
       "\n",
       "    .dataframe thead th {\n",
       "        text-align: right;\n",
       "    }\n",
       "</style>\n",
       "<table border=\"1\" class=\"dataframe\">\n",
       "  <thead>\n",
       "    <tr style=\"text-align: right;\">\n",
       "      <th></th>\n",
       "      <th>riocentro</th>\n",
       "      <th>guaratiba</th>\n",
       "      <th>jardim_botanico</th>\n",
       "      <th>santa_cruz</th>\n",
       "      <th>sao_cristovao</th>\n",
       "      <th>marambaia</th>\n",
       "      <th>xerem</th>\n",
       "      <th>ecologia</th>\n",
       "      <th>altitude</th>\n",
       "      <th>m_feat</th>\n",
       "      <th>slope</th>\n",
       "      <th>y_var</th>\n",
       "    </tr>\n",
       "    <tr>\n",
       "      <th>data</th>\n",
       "      <th></th>\n",
       "      <th></th>\n",
       "      <th></th>\n",
       "      <th></th>\n",
       "      <th></th>\n",
       "      <th></th>\n",
       "      <th></th>\n",
       "      <th></th>\n",
       "      <th></th>\n",
       "      <th></th>\n",
       "      <th></th>\n",
       "      <th></th>\n",
       "    </tr>\n",
       "  </thead>\n",
       "  <tbody>\n",
       "    <tr>\n",
       "      <th>2016-06-01 00:00:00</th>\n",
       "      <td>25.125</td>\n",
       "      <td>22.350</td>\n",
       "      <td>24.475000</td>\n",
       "      <td>25.125</td>\n",
       "      <td>25.025000</td>\n",
       "      <td>21.60</td>\n",
       "      <td>19.05</td>\n",
       "      <td>20.8</td>\n",
       "      <td>12.86</td>\n",
       "      <td>1</td>\n",
       "      <td>0.48</td>\n",
       "      <td>24.800000</td>\n",
       "    </tr>\n",
       "    <tr>\n",
       "      <th>2016-06-01 01:00:00</th>\n",
       "      <td>24.975</td>\n",
       "      <td>22.725</td>\n",
       "      <td>24.025000</td>\n",
       "      <td>24.800</td>\n",
       "      <td>24.950000</td>\n",
       "      <td>21.20</td>\n",
       "      <td>18.50</td>\n",
       "      <td>20.6</td>\n",
       "      <td>12.86</td>\n",
       "      <td>1</td>\n",
       "      <td>0.48</td>\n",
       "      <td>24.550000</td>\n",
       "    </tr>\n",
       "    <tr>\n",
       "      <th>2016-06-01 02:00:00</th>\n",
       "      <td>24.975</td>\n",
       "      <td>23.225</td>\n",
       "      <td>23.925000</td>\n",
       "      <td>24.200</td>\n",
       "      <td>24.800000</td>\n",
       "      <td>20.55</td>\n",
       "      <td>18.25</td>\n",
       "      <td>20.3</td>\n",
       "      <td>12.86</td>\n",
       "      <td>1</td>\n",
       "      <td>0.48</td>\n",
       "      <td>24.500000</td>\n",
       "    </tr>\n",
       "    <tr>\n",
       "      <th>2016-06-01 03:00:00</th>\n",
       "      <td>24.900</td>\n",
       "      <td>21.600</td>\n",
       "      <td>24.500000</td>\n",
       "      <td>24.200</td>\n",
       "      <td>24.800000</td>\n",
       "      <td>19.75</td>\n",
       "      <td>18.10</td>\n",
       "      <td>19.6</td>\n",
       "      <td>12.86</td>\n",
       "      <td>1</td>\n",
       "      <td>0.48</td>\n",
       "      <td>24.500000</td>\n",
       "    </tr>\n",
       "    <tr>\n",
       "      <th>2016-06-01 04:00:00</th>\n",
       "      <td>24.700</td>\n",
       "      <td>21.000</td>\n",
       "      <td>23.533333</td>\n",
       "      <td>23.400</td>\n",
       "      <td>24.166667</td>\n",
       "      <td>19.70</td>\n",
       "      <td>17.90</td>\n",
       "      <td>19.3</td>\n",
       "      <td>12.86</td>\n",
       "      <td>1</td>\n",
       "      <td>0.48</td>\n",
       "      <td>24.133333</td>\n",
       "    </tr>\n",
       "  </tbody>\n",
       "</table>\n",
       "</div>"
      ],
      "text/plain": [
       "                     riocentro  guaratiba  jardim_botanico  santa_cruz  \\\n",
       "data                                                                     \n",
       "2016-06-01 00:00:00     25.125     22.350        24.475000      25.125   \n",
       "2016-06-01 01:00:00     24.975     22.725        24.025000      24.800   \n",
       "2016-06-01 02:00:00     24.975     23.225        23.925000      24.200   \n",
       "2016-06-01 03:00:00     24.900     21.600        24.500000      24.200   \n",
       "2016-06-01 04:00:00     24.700     21.000        23.533333      23.400   \n",
       "\n",
       "                     sao_cristovao  marambaia  xerem  ecologia  altitude  \\\n",
       "data                                                                       \n",
       "2016-06-01 00:00:00      25.025000      21.60  19.05      20.8     12.86   \n",
       "2016-06-01 01:00:00      24.950000      21.20  18.50      20.6     12.86   \n",
       "2016-06-01 02:00:00      24.800000      20.55  18.25      20.3     12.86   \n",
       "2016-06-01 03:00:00      24.800000      19.75  18.10      19.6     12.86   \n",
       "2016-06-01 04:00:00      24.166667      19.70  17.90      19.3     12.86   \n",
       "\n",
       "                     m_feat  slope      y_var  \n",
       "data                                           \n",
       "2016-06-01 00:00:00       1   0.48  24.800000  \n",
       "2016-06-01 01:00:00       1   0.48  24.550000  \n",
       "2016-06-01 02:00:00       1   0.48  24.500000  \n",
       "2016-06-01 03:00:00       1   0.48  24.500000  \n",
       "2016-06-01 04:00:00       1   0.48  24.133333  "
      ]
     },
     "execution_count": 13,
     "metadata": {},
     "output_type": "execute_result"
    }
   ],
   "source": [
    "temp1.head()"
   ]
  },
  {
   "cell_type": "markdown",
   "metadata": {},
   "source": [
    "## alto da boa vista \n",
    "357.63 , 3.05, 5.49\n"
   ]
  },
  {
   "cell_type": "code",
   "execution_count": 15,
   "metadata": {},
   "outputs": [],
   "source": [
    "temp2['altitude']= np.full((len(temp2)),357.63)\n",
    "temp2['m_feat']= np.full((len(temp2)),3.05 )\n",
    "temp2['slope']= np.full((len(temp2)),5.49)\n",
    "temp2['y_var']= df.alto_da_boa_vista"
   ]
  },
  {
   "cell_type": "markdown",
   "metadata": {},
   "source": [
    "## copacabana\n",
    "15.74, 1, 0.96"
   ]
  },
  {
   "cell_type": "code",
   "execution_count": 16,
   "metadata": {},
   "outputs": [],
   "source": [
    "temp3['altitude']= np.full((len(temp3)),15.74)\n",
    "temp3['m_feat']= np.full((len(temp3)),1 )\n",
    "temp3['slope']= np.full((len(temp3)),0.96)\n",
    "temp3['y_var']= df.alto_da_boa_vista"
   ]
  },
  {
   "cell_type": "markdown",
   "metadata": {},
   "source": [
    "## conjunto principal"
   ]
  },
  {
   "cell_type": "code",
   "execution_count": 23,
   "metadata": {},
   "outputs": [],
   "source": [
    "temp1 = temp1.reset_index().drop(['data'],axis=1)\n",
    "temp2 = temp2.reset_index().drop(['data'],axis=1)\n",
    "temp3 = temp3.reset_index().drop(['data'],axis=1)"
   ]
  },
  {
   "cell_type": "code",
   "execution_count": 26,
   "metadata": {},
   "outputs": [],
   "source": [
    "dados = pd.concat([temp1,temp2,temp3],axis=0)"
   ]
  },
  {
   "cell_type": "code",
   "execution_count": 39,
   "metadata": {},
   "outputs": [],
   "source": [
    "dados = dados.drop(['guaratiba'],axis=1)\n"
   ]
  },
  {
   "cell_type": "code",
   "execution_count": 45,
   "metadata": {},
   "outputs": [],
   "source": [
    "#tirando nodata\n",
    "dados = dados.fillna(method='backfill')"
   ]
  },
  {
   "cell_type": "markdown",
   "metadata": {},
   "source": [
    "# Aplicando os algoritmos de ML"
   ]
  },
  {
   "cell_type": "code",
   "execution_count": 48,
   "metadata": {},
   "outputs": [],
   "source": [
    "#separando variáveis\n",
    "y = dados.iloc[:,10].values\n",
    "x = dados.iloc[:,:10].values\n"
   ]
  },
  {
   "cell_type": "code",
   "execution_count": 51,
   "metadata": {},
   "outputs": [],
   "source": [
    "#padronizando os dados \n",
    "from sklearn.preprocessing import StandardScaler"
   ]
  },
  {
   "cell_type": "code",
   "execution_count": 52,
   "metadata": {},
   "outputs": [],
   "source": [
    "Stander = StandardScaler()"
   ]
  },
  {
   "cell_type": "code",
   "execution_count": 61,
   "metadata": {},
   "outputs": [],
   "source": [
    "x=Stander.fit(x).transform(x)"
   ]
  },
  {
   "cell_type": "code",
   "execution_count": 63,
   "metadata": {},
   "outputs": [
    {
     "data": {
      "text/plain": [
       "30672"
      ]
     },
     "execution_count": 63,
     "metadata": {},
     "output_type": "execute_result"
    }
   ],
   "source": [
    "len(y)"
   ]
  },
  {
   "cell_type": "code",
   "execution_count": 64,
   "metadata": {},
   "outputs": [
    {
     "data": {
      "text/plain": [
       "23004.0"
      ]
     },
     "execution_count": 64,
     "metadata": {},
     "output_type": "execute_result"
    }
   ],
   "source": [
    "30672*0.75"
   ]
  },
  {
   "cell_type": "code",
   "execution_count": 217,
   "metadata": {},
   "outputs": [],
   "source": [
    "y_train = y[:23004]\n",
    "y_test = y[23004:]\n",
    "X_train = x[:23004]\n",
    "X_test = x[23004:]"
   ]
  },
  {
   "cell_type": "markdown",
   "metadata": {},
   "source": [
    "# Testando os algoritmos"
   ]
  },
  {
   "cell_type": "code",
   "execution_count": 218,
   "metadata": {},
   "outputs": [],
   "source": [
    "# importando bibliotecas\n",
    "from sklearn.metrics import mean_squared_error\n",
    "from sklearn.tree import DecisionTreeRegressor\n",
    "from sklearn.ensemble import ExtraTreesRegressor\n",
    "from sklearn.neighbors import KNeighborsRegressor\n",
    "from sklearn.ensemble import GradientBoostingRegressor\n",
    "from sklearn.ensemble import AdaBoostRegressor\n",
    "from sklearn.multioutput import MultiOutputRegressor\n",
    "from sklearn.ensemble import RandomForestRegressor\n",
    "from sklearn.svm import SVR, SVC\n",
    "from sklearn.neural_network import MLPRegressor\n",
    "\n"
   ]
  },
  {
   "cell_type": "code",
   "execution_count": 74,
   "metadata": {},
   "outputs": [],
   "source": [
    "# plota grafico de dispersao e linha de tendencia para o modelo\n",
    "def plot_show(X_test,y_test,previsao,title,name):\n",
    "    #plt.figure(figsize=(5,5))\n",
    "    z= np.polyfit(y_test.flatten(),previsao.flatten(),1)\n",
    "    p=np.poly1d(z)\n",
    "    plt.scatter(y_test,previsao,color='k',marker='+')\n",
    "    plt.title(title)\n",
    "    plt.plot(y_test,p(y_test),'r--')\n",
    "    plt.show()\n",
    "    print('RMSE for ',name,' is ',y_mse[name])\n",
    "    print('R**2 ',name,' is ',y_r2[name])"
   ]
  },
  {
   "cell_type": "code",
   "execution_count": 75,
   "metadata": {},
   "outputs": [],
   "source": [
    "# plota grafico de dispersao e linha de tendencia para o modelo\n",
    "def plot_l(y_test,previsao):\n",
    "    #plt.figure(figsize=(5,5))\n",
    "    z= np.polyfit(y_test.flatten(),previsao.flatten(),1)\n",
    "    p=np.poly1d(z)\n",
    "    return p"
   ]
  },
  {
   "cell_type": "code",
   "execution_count": 183,
   "metadata": {},
   "outputs": [],
   "source": [
    "# cria dicionario com os algorimos utilizados \n",
    "ESTIMATORS = {    \n",
    "    \"K-nn\": KNeighborsRegressor(),                        \n",
    "    \"RandomForestRegressor\": RandomForestRegressor(max_depth=50, random_state=2),\n",
    "    \"Decision Tree Regressor\":DecisionTreeRegressor(max_depth=5),\n",
    "    \"SVC\":SVR(),\n",
    "    #\"NeuralNetwork\": MLPRegressor(solver='adam', random_state=1,\n",
    "     #                             hidden_layer_sizes=(4,4,4,2)),\n",
    "    \"GBR\" :GradientBoostingRegressor(n_estimators=35),\n",
    "    \"AdaB\" :AdaBoostRegressor(n_estimators=5)\n",
    "}"
   ]
  },
  {
   "cell_type": "code",
   "execution_count": 210,
   "metadata": {},
   "outputs": [],
   "source": [
    "#estimador = DecisionTreeRegressor()\n",
    "estimador = KNeighborsRegressor()"
   ]
  },
  {
   "cell_type": "code",
   "execution_count": 211,
   "metadata": {},
   "outputs": [
    {
     "data": {
      "text/plain": [
       "KNeighborsRegressor(algorithm='auto', leaf_size=30, metric='minkowski',\n",
       "          metric_params=None, n_jobs=None, n_neighbors=5, p=2,\n",
       "          weights='uniform')"
      ]
     },
     "execution_count": 211,
     "metadata": {},
     "output_type": "execute_result"
    }
   ],
   "source": [
    "estimador.fit(X_train,y_train)"
   ]
  },
  {
   "cell_type": "code",
   "execution_count": 179,
   "metadata": {},
   "outputs": [],
   "source": [
    "previsao = estimador.predict(X_test)"
   ]
  },
  {
   "cell_type": "code",
   "execution_count": 180,
   "metadata": {},
   "outputs": [
    {
     "name": "stdout",
     "output_type": "stream",
     "text": [
      "2.106128892118759\n",
      "0.8918595698332569\n"
     ]
    }
   ],
   "source": [
    "print(mean_squared_error(y_test,previsao))\n",
    "print(estimador.score(X_test,y_test))"
   ]
  },
  {
   "cell_type": "code",
   "execution_count": 184,
   "metadata": {},
   "outputs": [
    {
     "name": "stderr",
     "output_type": "stream",
     "text": [
      "/home/pensario/.local/lib/python3.6/site-packages/sklearn/ensemble/forest.py:246: FutureWarning: The default value of n_estimators will change from 10 in version 0.20 to 100 in 0.22.\n",
      "  \"10 in version 0.20 to 100 in 0.22.\", FutureWarning)\n",
      "/home/pensario/.local/lib/python3.6/site-packages/sklearn/svm/base.py:196: FutureWarning: The default value of gamma will change from 'auto' to 'scale' in version 0.22 to account better for unscaled features. Set gamma explicitly to 'auto' or 'scale' to avoid this warning.\n",
      "  \"avoid this warning.\", FutureWarning)\n"
     ]
    }
   ],
   "source": [
    "# aplicando os algortimos\n",
    "y_test_predict = dict()\n",
    "y_mse = dict()\n",
    "y_r2 = dict()\n",
    "#fig = plt.figure(figsize=(15,10))\n",
    "i=1\n",
    "for name, estimator in ESTIMATORS.items():    \n",
    "    estimator.fit(X_train, y_train)                    # fit() with instantiated object\n",
    "    y_test_predict[name] = previsao = estimator.predict(X_test)   # Make predictions and save it in dict under key: name\n",
    "    y_mse[name] = mean_squared_error(y_test, estimator.predict(X_test))\n",
    "    y_r2[name] = estimator.score(X_test,y_test)\n",
    "    \n",
    "    #grafico\n",
    "#     z= np.polyfit(y_test.flatten(),previsao.flatten(),1)\n",
    "#     p=np.poly1d(z)\n",
    "#     ax=fig.add_subplot(2,3,i)\n",
    "#     ax.scatter(y_test,previsao,color='k',marker='+')\n",
    "#     ax.set_xlabel('Observado')\n",
    "#     ax.set_ylabel('Estimado')\n",
    "#     ax.set_title(name)\n",
    "#     ax.plot(y_test,p(y_test),'r--')\n",
    "#     i+=1\n",
    "\n",
    "# plt.tight_layout()\n",
    "# #plt.savefig('../../../Qualificacao/MML_evaporacao_INMET.png')\n",
    "# plt.show()\n",
    "\n",
    "    \n",
    "\n",
    "R=pd.DataFrame({'mse':list(y_mse.values()),    # Padronizando o os dois\n",
    "                 'R2':list(y_r2.values())}, \n",
    "                index=list(y_r2.keys()))"
   ]
  },
  {
   "cell_type": "code",
   "execution_count": 185,
   "metadata": {},
   "outputs": [
    {
     "data": {
      "text/html": [
       "<div>\n",
       "<style scoped>\n",
       "    .dataframe tbody tr th:only-of-type {\n",
       "        vertical-align: middle;\n",
       "    }\n",
       "\n",
       "    .dataframe tbody tr th {\n",
       "        vertical-align: top;\n",
       "    }\n",
       "\n",
       "    .dataframe thead th {\n",
       "        text-align: right;\n",
       "    }\n",
       "</style>\n",
       "<table border=\"1\" class=\"dataframe\">\n",
       "  <thead>\n",
       "    <tr style=\"text-align: right;\">\n",
       "      <th></th>\n",
       "      <th>mse</th>\n",
       "      <th>R2</th>\n",
       "    </tr>\n",
       "  </thead>\n",
       "  <tbody>\n",
       "    <tr>\n",
       "      <th>K-nn</th>\n",
       "      <td>10.925574</td>\n",
       "      <td>0.439020</td>\n",
       "    </tr>\n",
       "    <tr>\n",
       "      <th>RandomForestRegressor</th>\n",
       "      <td>0.183548</td>\n",
       "      <td>0.990576</td>\n",
       "    </tr>\n",
       "    <tr>\n",
       "      <th>Decision Tree Regressor</th>\n",
       "      <td>1.589724</td>\n",
       "      <td>0.918375</td>\n",
       "    </tr>\n",
       "    <tr>\n",
       "      <th>SVC</th>\n",
       "      <td>3.085551</td>\n",
       "      <td>0.841571</td>\n",
       "    </tr>\n",
       "    <tr>\n",
       "      <th>GBR</th>\n",
       "      <td>1.129124</td>\n",
       "      <td>0.942024</td>\n",
       "    </tr>\n",
       "    <tr>\n",
       "      <th>AdaB</th>\n",
       "      <td>2.299425</td>\n",
       "      <td>0.881935</td>\n",
       "    </tr>\n",
       "  </tbody>\n",
       "</table>\n",
       "</div>"
      ],
      "text/plain": [
       "                               mse        R2\n",
       "K-nn                     10.925574  0.439020\n",
       "RandomForestRegressor     0.183548  0.990576\n",
       "Decision Tree Regressor   1.589724  0.918375\n",
       "SVC                       3.085551  0.841571\n",
       "GBR                       1.129124  0.942024\n",
       "AdaB                      2.299425  0.881935"
      ]
     },
     "execution_count": 185,
     "metadata": {},
     "output_type": "execute_result"
    }
   ],
   "source": [
    "R"
   ]
  },
  {
   "cell_type": "markdown",
   "metadata": {},
   "source": [
    "# Teste "
   ]
  },
  {
   "cell_type": "code",
   "execution_count": 186,
   "metadata": {},
   "outputs": [
    {
     "data": {
      "text/plain": [
       "array([ 0.0880346 ,  0.04097513,  0.05672916,  0.03672865, -0.45679216,\n",
       "       -0.62646686, -0.57054586, -0.71598516, -0.70710678, -0.81076696])"
      ]
     },
     "execution_count": 186,
     "metadata": {},
     "output_type": "execute_result"
    }
   ],
   "source": [
    "x[1]"
   ]
  },
  {
   "cell_type": "code",
   "execution_count": 188,
   "metadata": {},
   "outputs": [
    {
     "data": {
      "text/plain": [
       "array([24.4985])"
      ]
     },
     "execution_count": 188,
     "metadata": {},
     "output_type": "execute_result"
    }
   ],
   "source": [
    "estimador.predict([x[1]])"
   ]
  },
  {
   "cell_type": "code",
   "execution_count": 189,
   "metadata": {},
   "outputs": [
    {
     "data": {
      "text/plain": [
       "array([24.975, 24.025, 24.8  , 24.95 , 21.2  , 18.5  , 20.6  , 12.86 ,\n",
       "        1.   ,  0.48 ])"
      ]
     },
     "execution_count": 189,
     "metadata": {},
     "output_type": "execute_result"
    }
   ],
   "source": [
    "Stander.inverse_transform(x[1])"
   ]
  },
  {
   "cell_type": "code",
   "execution_count": 190,
   "metadata": {},
   "outputs": [
    {
     "data": {
      "text/html": [
       "<div>\n",
       "<style scoped>\n",
       "    .dataframe tbody tr th:only-of-type {\n",
       "        vertical-align: middle;\n",
       "    }\n",
       "\n",
       "    .dataframe tbody tr th {\n",
       "        vertical-align: top;\n",
       "    }\n",
       "\n",
       "    .dataframe thead th {\n",
       "        text-align: right;\n",
       "    }\n",
       "</style>\n",
       "<table border=\"1\" class=\"dataframe\">\n",
       "  <thead>\n",
       "    <tr style=\"text-align: right;\">\n",
       "      <th></th>\n",
       "      <th>riocentro</th>\n",
       "      <th>jardim_botanico</th>\n",
       "      <th>santa_cruz</th>\n",
       "      <th>sao_cristovao</th>\n",
       "      <th>marambaia</th>\n",
       "      <th>xerem</th>\n",
       "      <th>ecologia</th>\n",
       "      <th>altitude</th>\n",
       "      <th>m_feat</th>\n",
       "      <th>slope</th>\n",
       "      <th>y_var</th>\n",
       "    </tr>\n",
       "  </thead>\n",
       "  <tbody>\n",
       "    <tr>\n",
       "      <th>0</th>\n",
       "      <td>25.125</td>\n",
       "      <td>24.475000</td>\n",
       "      <td>25.125</td>\n",
       "      <td>25.025000</td>\n",
       "      <td>21.60</td>\n",
       "      <td>19.05</td>\n",
       "      <td>20.8</td>\n",
       "      <td>12.86</td>\n",
       "      <td>1.0</td>\n",
       "      <td>0.48</td>\n",
       "      <td>24.800000</td>\n",
       "    </tr>\n",
       "    <tr>\n",
       "      <th>1</th>\n",
       "      <td>24.975</td>\n",
       "      <td>24.025000</td>\n",
       "      <td>24.800</td>\n",
       "      <td>24.950000</td>\n",
       "      <td>21.20</td>\n",
       "      <td>18.50</td>\n",
       "      <td>20.6</td>\n",
       "      <td>12.86</td>\n",
       "      <td>1.0</td>\n",
       "      <td>0.48</td>\n",
       "      <td>24.550000</td>\n",
       "    </tr>\n",
       "    <tr>\n",
       "      <th>2</th>\n",
       "      <td>24.975</td>\n",
       "      <td>23.925000</td>\n",
       "      <td>24.200</td>\n",
       "      <td>24.800000</td>\n",
       "      <td>20.55</td>\n",
       "      <td>18.25</td>\n",
       "      <td>20.3</td>\n",
       "      <td>12.86</td>\n",
       "      <td>1.0</td>\n",
       "      <td>0.48</td>\n",
       "      <td>24.500000</td>\n",
       "    </tr>\n",
       "    <tr>\n",
       "      <th>3</th>\n",
       "      <td>24.900</td>\n",
       "      <td>24.500000</td>\n",
       "      <td>24.200</td>\n",
       "      <td>24.800000</td>\n",
       "      <td>19.75</td>\n",
       "      <td>18.10</td>\n",
       "      <td>19.6</td>\n",
       "      <td>12.86</td>\n",
       "      <td>1.0</td>\n",
       "      <td>0.48</td>\n",
       "      <td>24.500000</td>\n",
       "    </tr>\n",
       "    <tr>\n",
       "      <th>4</th>\n",
       "      <td>24.700</td>\n",
       "      <td>23.533333</td>\n",
       "      <td>23.400</td>\n",
       "      <td>24.166667</td>\n",
       "      <td>19.70</td>\n",
       "      <td>17.90</td>\n",
       "      <td>19.3</td>\n",
       "      <td>12.86</td>\n",
       "      <td>1.0</td>\n",
       "      <td>0.48</td>\n",
       "      <td>24.133333</td>\n",
       "    </tr>\n",
       "  </tbody>\n",
       "</table>\n",
       "</div>"
      ],
      "text/plain": [
       "   riocentro  jardim_botanico  santa_cruz  sao_cristovao  marambaia  xerem  \\\n",
       "0     25.125        24.475000      25.125      25.025000      21.60  19.05   \n",
       "1     24.975        24.025000      24.800      24.950000      21.20  18.50   \n",
       "2     24.975        23.925000      24.200      24.800000      20.55  18.25   \n",
       "3     24.900        24.500000      24.200      24.800000      19.75  18.10   \n",
       "4     24.700        23.533333      23.400      24.166667      19.70  17.90   \n",
       "\n",
       "   ecologia  altitude  m_feat  slope      y_var  \n",
       "0      20.8     12.86     1.0   0.48  24.800000  \n",
       "1      20.6     12.86     1.0   0.48  24.550000  \n",
       "2      20.3     12.86     1.0   0.48  24.500000  \n",
       "3      19.6     12.86     1.0   0.48  24.500000  \n",
       "4      19.3     12.86     1.0   0.48  24.133333  "
      ]
     },
     "execution_count": 190,
     "metadata": {},
     "output_type": "execute_result"
    }
   ],
   "source": [
    "dados.head()"
   ]
  },
  {
   "cell_type": "code",
   "execution_count": 191,
   "metadata": {},
   "outputs": [
    {
     "data": {
      "text/html": [
       "<div>\n",
       "<style scoped>\n",
       "    .dataframe tbody tr th:only-of-type {\n",
       "        vertical-align: middle;\n",
       "    }\n",
       "\n",
       "    .dataframe tbody tr th {\n",
       "        vertical-align: top;\n",
       "    }\n",
       "\n",
       "    .dataframe thead th {\n",
       "        text-align: right;\n",
       "    }\n",
       "</style>\n",
       "<table border=\"1\" class=\"dataframe\">\n",
       "  <thead>\n",
       "    <tr style=\"text-align: right;\">\n",
       "      <th></th>\n",
       "      <th>riocentro</th>\n",
       "      <th>alto_da_boa_vista</th>\n",
       "      <th>guaratiba</th>\n",
       "      <th>iraja</th>\n",
       "      <th>jardim_botanico</th>\n",
       "      <th>santa_cruz</th>\n",
       "      <th>sao_cristovao</th>\n",
       "      <th>marambaia</th>\n",
       "      <th>xerem</th>\n",
       "      <th>f_copacabana</th>\n",
       "      <th>ecologia</th>\n",
       "    </tr>\n",
       "    <tr>\n",
       "      <th>data</th>\n",
       "      <th></th>\n",
       "      <th></th>\n",
       "      <th></th>\n",
       "      <th></th>\n",
       "      <th></th>\n",
       "      <th></th>\n",
       "      <th></th>\n",
       "      <th></th>\n",
       "      <th></th>\n",
       "      <th></th>\n",
       "      <th></th>\n",
       "    </tr>\n",
       "  </thead>\n",
       "  <tbody>\n",
       "    <tr>\n",
       "      <th>2016-06-01 00:00:00</th>\n",
       "      <td>25.125</td>\n",
       "      <td>21.000000</td>\n",
       "      <td>22.350</td>\n",
       "      <td>24.800000</td>\n",
       "      <td>24.475000</td>\n",
       "      <td>25.125</td>\n",
       "      <td>25.025000</td>\n",
       "      <td>21.60</td>\n",
       "      <td>19.05</td>\n",
       "      <td>22.90</td>\n",
       "      <td>20.8</td>\n",
       "    </tr>\n",
       "    <tr>\n",
       "      <th>2016-06-01 01:00:00</th>\n",
       "      <td>24.975</td>\n",
       "      <td>21.000000</td>\n",
       "      <td>22.725</td>\n",
       "      <td>24.550000</td>\n",
       "      <td>24.025000</td>\n",
       "      <td>24.800</td>\n",
       "      <td>24.950000</td>\n",
       "      <td>21.20</td>\n",
       "      <td>18.50</td>\n",
       "      <td>22.80</td>\n",
       "      <td>20.6</td>\n",
       "    </tr>\n",
       "    <tr>\n",
       "      <th>2016-06-01 02:00:00</th>\n",
       "      <td>24.975</td>\n",
       "      <td>20.950000</td>\n",
       "      <td>23.225</td>\n",
       "      <td>24.500000</td>\n",
       "      <td>23.925000</td>\n",
       "      <td>24.200</td>\n",
       "      <td>24.800000</td>\n",
       "      <td>20.55</td>\n",
       "      <td>18.25</td>\n",
       "      <td>23.10</td>\n",
       "      <td>20.3</td>\n",
       "    </tr>\n",
       "    <tr>\n",
       "      <th>2016-06-01 03:00:00</th>\n",
       "      <td>24.900</td>\n",
       "      <td>21.000000</td>\n",
       "      <td>21.600</td>\n",
       "      <td>24.500000</td>\n",
       "      <td>24.500000</td>\n",
       "      <td>24.200</td>\n",
       "      <td>24.800000</td>\n",
       "      <td>19.75</td>\n",
       "      <td>18.10</td>\n",
       "      <td>23.15</td>\n",
       "      <td>19.6</td>\n",
       "    </tr>\n",
       "    <tr>\n",
       "      <th>2016-06-01 04:00:00</th>\n",
       "      <td>24.700</td>\n",
       "      <td>20.166667</td>\n",
       "      <td>21.000</td>\n",
       "      <td>24.133333</td>\n",
       "      <td>23.533333</td>\n",
       "      <td>23.400</td>\n",
       "      <td>24.166667</td>\n",
       "      <td>19.70</td>\n",
       "      <td>17.90</td>\n",
       "      <td>22.70</td>\n",
       "      <td>19.3</td>\n",
       "    </tr>\n",
       "  </tbody>\n",
       "</table>\n",
       "</div>"
      ],
      "text/plain": [
       "                     riocentro  alto_da_boa_vista  guaratiba      iraja  \\\n",
       "data                                                                      \n",
       "2016-06-01 00:00:00     25.125          21.000000     22.350  24.800000   \n",
       "2016-06-01 01:00:00     24.975          21.000000     22.725  24.550000   \n",
       "2016-06-01 02:00:00     24.975          20.950000     23.225  24.500000   \n",
       "2016-06-01 03:00:00     24.900          21.000000     21.600  24.500000   \n",
       "2016-06-01 04:00:00     24.700          20.166667     21.000  24.133333   \n",
       "\n",
       "                     jardim_botanico  santa_cruz  sao_cristovao  marambaia  \\\n",
       "data                                                                         \n",
       "2016-06-01 00:00:00        24.475000      25.125      25.025000      21.60   \n",
       "2016-06-01 01:00:00        24.025000      24.800      24.950000      21.20   \n",
       "2016-06-01 02:00:00        23.925000      24.200      24.800000      20.55   \n",
       "2016-06-01 03:00:00        24.500000      24.200      24.800000      19.75   \n",
       "2016-06-01 04:00:00        23.533333      23.400      24.166667      19.70   \n",
       "\n",
       "                     xerem  f_copacabana  ecologia  \n",
       "data                                                \n",
       "2016-06-01 00:00:00  19.05         22.90      20.8  \n",
       "2016-06-01 01:00:00  18.50         22.80      20.6  \n",
       "2016-06-01 02:00:00  18.25         23.10      20.3  \n",
       "2016-06-01 03:00:00  18.10         23.15      19.6  \n",
       "2016-06-01 04:00:00  17.90         22.70      19.3  "
      ]
     },
     "execution_count": 191,
     "metadata": {},
     "output_type": "execute_result"
    }
   ],
   "source": [
    "df.head()"
   ]
  },
  {
   "cell_type": "code",
   "execution_count": 192,
   "metadata": {},
   "outputs": [],
   "source": [
    "x_guaratiba = np.array([24.975, 24.025, 24.8  , 24.95 ,\n",
    "                        21.2  , 18.5  , 20.6  , \n",
    "                        5.83 , 1., 0.11 ])"
   ]
  },
  {
   "cell_type": "code",
   "execution_count": 194,
   "metadata": {},
   "outputs": [],
   "source": [
    "x_guaratiba = Stander.transform([x_guaratiba])"
   ]
  },
  {
   "cell_type": "code",
   "execution_count": 195,
   "metadata": {},
   "outputs": [
    {
     "data": {
      "text/plain": [
       "array([[ 0.0880346 ,  0.04097513,  0.05672916,  0.03672865, -0.45679216,\n",
       "        -0.62646686, -0.57054586, -0.75942002, -0.70710678, -0.97469252]])"
      ]
     },
     "execution_count": 195,
     "metadata": {},
     "output_type": "execute_result"
    }
   ],
   "source": [
    "x_guaratiba"
   ]
  },
  {
   "cell_type": "code",
   "execution_count": 196,
   "metadata": {},
   "outputs": [
    {
     "data": {
      "text/plain": [
       "array([ 0.0880346 ,  0.04097513,  0.05672916,  0.03672865, -0.45679216,\n",
       "       -0.62646686, -0.57054586, -0.75942002, -0.70710678, -0.97469252])"
      ]
     },
     "execution_count": 196,
     "metadata": {},
     "output_type": "execute_result"
    }
   ],
   "source": [
    "x_guaratiba[0]"
   ]
  },
  {
   "cell_type": "code",
   "execution_count": 198,
   "metadata": {
    "scrolled": true
   },
   "outputs": [
    {
     "data": {
      "text/plain": [
       "array([24.4985])"
      ]
     },
     "execution_count": 198,
     "metadata": {},
     "output_type": "execute_result"
    }
   ],
   "source": [
    "estimador.predict([x_guaratiba[0]])"
   ]
  },
  {
   "cell_type": "markdown",
   "metadata": {},
   "source": [
    "# Exportando dados e modelos"
   ]
  },
  {
   "cell_type": "code",
   "execution_count": 200,
   "metadata": {
    "scrolled": true
   },
   "outputs": [],
   "source": [
    "# conjunto treinamento\n",
    "dados.to_csv('../dados_meteorologicos/conjunto_trein_val_062016_072017.csv')"
   ]
  },
  {
   "cell_type": "code",
   "execution_count": 219,
   "metadata": {},
   "outputs": [],
   "source": [
    "knn = KNeighborsRegressor()                        \n",
    "RF = RandomForestRegressor(max_depth=50, random_state=2)\n",
    "DT = DecisionTreeRegressor(max_depth=5)\n",
    "SVR_pred = SVR()\n",
    "GBR = GradientBoostingRegressor(n_estimators=35)\n",
    "AdaB = AdaBoostRegressor(n_estimators=5)"
   ]
  },
  {
   "cell_type": "code",
   "execution_count": 220,
   "metadata": {},
   "outputs": [
    {
     "name": "stderr",
     "output_type": "stream",
     "text": [
      "/home/pensario/.local/lib/python3.6/site-packages/sklearn/ensemble/forest.py:246: FutureWarning: The default value of n_estimators will change from 10 in version 0.20 to 100 in 0.22.\n",
      "  \"10 in version 0.20 to 100 in 0.22.\", FutureWarning)\n",
      "/home/pensario/.local/lib/python3.6/site-packages/sklearn/svm/base.py:196: FutureWarning: The default value of gamma will change from 'auto' to 'scale' in version 0.22 to account better for unscaled features. Set gamma explicitly to 'auto' or 'scale' to avoid this warning.\n",
      "  \"avoid this warning.\", FutureWarning)\n"
     ]
    },
    {
     "data": {
      "text/plain": [
       "AdaBoostRegressor(base_estimator=None, learning_rate=1.0, loss='linear',\n",
       "         n_estimators=5, random_state=None)"
      ]
     },
     "execution_count": 220,
     "metadata": {},
     "output_type": "execute_result"
    }
   ],
   "source": [
    "knn.fit(X_train,y_train)\n",
    "RF.fit(X_train,y_train)\n",
    "DT.fit(X_train,y_train)\n",
    "SVR_pred.fit(X_train,y_train)\n",
    "GBR.fit(X_train,y_train)\n",
    "AdaB.fit(X_train,y_train)"
   ]
  },
  {
   "cell_type": "code",
   "execution_count": 201,
   "metadata": {},
   "outputs": [],
   "source": [
    "from sklearn.externals import joblib"
   ]
  },
  {
   "cell_type": "code",
   "execution_count": 221,
   "metadata": {},
   "outputs": [
    {
     "data": {
      "text/plain": [
       "['../modelos/GBR.pk']"
      ]
     },
     "execution_count": 221,
     "metadata": {},
     "output_type": "execute_result"
    }
   ],
   "source": [
    "joblib.dump(AdaB,'../modelos/AdaB.pk') #AdaBoostRegressor\n",
    "joblib.dump(RF,'../modelos/RF.pk') #Random forest\n",
    "joblib.dump(DT,'../modelos/DT.pk') #arvore de decisao\n",
    "joblib.dump(SVR_pred,'../modelos/SVR.pk') #vetor suporte\n",
    "joblib.dump(GBR,'../modelos/GBR.pk') #gradiente de boosting\n",
    "\n"
   ]
  },
  {
   "cell_type": "code",
   "execution_count": 222,
   "metadata": {},
   "outputs": [
    {
     "data": {
      "text/plain": [
       "['../modelos/transform_dados.pk']"
      ]
     },
     "execution_count": 222,
     "metadata": {},
     "output_type": "execute_result"
    }
   ],
   "source": [
    "joblib.dump(Stander,'../modelos/transform_dados.pk')"
   ]
  },
  {
   "cell_type": "code",
   "execution_count": 206,
   "metadata": {},
   "outputs": [
    {
     "data": {
      "text/plain": [
       "array([24.4985])"
      ]
     },
     "execution_count": 206,
     "metadata": {},
     "output_type": "execute_result"
    }
   ],
   "source": []
  },
  {
   "cell_type": "code",
   "execution_count": 223,
   "metadata": {},
   "outputs": [],
   "source": [
    "transform = joblib.load('../modelos/transform_dados.pk')"
   ]
  }
 ],
 "metadata": {
  "kernelspec": {
   "display_name": "Python 3",
   "language": "python",
   "name": "python3"
  },
  "language_info": {
   "codemirror_mode": {
    "name": "ipython",
    "version": 3
   },
   "file_extension": ".py",
   "mimetype": "text/x-python",
   "name": "python",
   "nbconvert_exporter": "python",
   "pygments_lexer": "ipython3",
   "version": "3.6.8"
  }
 },
 "nbformat": 4,
 "nbformat_minor": 2
}
