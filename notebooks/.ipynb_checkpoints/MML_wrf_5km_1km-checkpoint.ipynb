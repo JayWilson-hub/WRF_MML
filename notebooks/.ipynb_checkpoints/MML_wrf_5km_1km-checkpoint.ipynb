{
 "cells": [
  {
   "cell_type": "code",
   "execution_count": 1,
   "metadata": {},
   "outputs": [],
   "source": [
    "import pandas as pd\n",
    "import numpy as np\n",
    "import matplotlib.pyplot as plt\n",
    "%matplotlib inline"
   ]
  },
  {
   "cell_type": "code",
   "execution_count": null,
   "metadata": {},
   "outputs": [],
   "source": []
  },
  {
   "cell_type": "code",
   "execution_count": 2,
   "metadata": {},
   "outputs": [],
   "source": [
    "# abrindo os dados\n",
    "df = pd.read_csv('../dados_meteorologicos/dataframe_ML.csv')"
   ]
  },
  {
   "cell_type": "code",
   "execution_count": 3,
   "metadata": {},
   "outputs": [],
   "source": [
    "df = df.drop(['Unnamed: 0'],axis=1)"
   ]
  },
  {
   "cell_type": "code",
   "execution_count": 4,
   "metadata": {},
   "outputs": [
    {
     "data": {
      "text/html": [
       "<div>\n",
       "<style scoped>\n",
       "    .dataframe tbody tr th:only-of-type {\n",
       "        vertical-align: middle;\n",
       "    }\n",
       "\n",
       "    .dataframe tbody tr th {\n",
       "        vertical-align: top;\n",
       "    }\n",
       "\n",
       "    .dataframe thead th {\n",
       "        text-align: right;\n",
       "    }\n",
       "</style>\n",
       "<table border=\"1\" class=\"dataframe\">\n",
       "  <thead>\n",
       "    <tr style=\"text-align: right;\">\n",
       "      <th></th>\n",
       "      <th>t2_5km</th>\n",
       "      <th>usodosolo</th>\n",
       "      <th>elevacao</th>\n",
       "      <th>t2_1km</th>\n",
       "      <th>ndvi</th>\n",
       "      <th>evi</th>\n",
       "    </tr>\n",
       "  </thead>\n",
       "  <tbody>\n",
       "    <tr>\n",
       "      <th>0</th>\n",
       "      <td>293.861</td>\n",
       "      <td>10.0</td>\n",
       "      <td>497</td>\n",
       "      <td>292.358</td>\n",
       "      <td>7594</td>\n",
       "      <td>3881</td>\n",
       "    </tr>\n",
       "    <tr>\n",
       "      <th>1</th>\n",
       "      <td>293.861</td>\n",
       "      <td>14.0</td>\n",
       "      <td>506</td>\n",
       "      <td>293.139</td>\n",
       "      <td>7715</td>\n",
       "      <td>3896</td>\n",
       "    </tr>\n",
       "    <tr>\n",
       "      <th>2</th>\n",
       "      <td>293.861</td>\n",
       "      <td>2.0</td>\n",
       "      <td>607</td>\n",
       "      <td>293.544</td>\n",
       "      <td>8416</td>\n",
       "      <td>4058</td>\n",
       "    </tr>\n",
       "    <tr>\n",
       "      <th>3</th>\n",
       "      <td>293.861</td>\n",
       "      <td>2.0</td>\n",
       "      <td>591</td>\n",
       "      <td>293.464</td>\n",
       "      <td>8763</td>\n",
       "      <td>4285</td>\n",
       "    </tr>\n",
       "    <tr>\n",
       "      <th>4</th>\n",
       "      <td>293.861</td>\n",
       "      <td>2.0</td>\n",
       "      <td>608</td>\n",
       "      <td>293.762</td>\n",
       "      <td>8916</td>\n",
       "      <td>4280</td>\n",
       "    </tr>\n",
       "  </tbody>\n",
       "</table>\n",
       "</div>"
      ],
      "text/plain": [
       "    t2_5km  usodosolo  elevacao   t2_1km  ndvi   evi\n",
       "0  293.861       10.0       497  292.358  7594  3881\n",
       "1  293.861       14.0       506  293.139  7715  3896\n",
       "2  293.861        2.0       607  293.544  8416  4058\n",
       "3  293.861        2.0       591  293.464  8763  4285\n",
       "4  293.861        2.0       608  293.762  8916  4280"
      ]
     },
     "execution_count": 4,
     "metadata": {},
     "output_type": "execute_result"
    }
   ],
   "source": [
    "df.head()"
   ]
  },
  {
   "cell_type": "code",
   "execution_count": 6,
   "metadata": {},
   "outputs": [],
   "source": [
    "#df.to_csv()"
   ]
  },
  {
   "cell_type": "code",
   "execution_count": 7,
   "metadata": {},
   "outputs": [],
   "source": [
    "# preparandos os conjuntos de dados\n",
    "from sklearn.preprocessing import LabelEncoder, Binarizer, MultiLabelBinarizer\n",
    "\n",
    "from sklearn.preprocessing import StandardScaler\n"
   ]
  },
  {
   "cell_type": "code",
   "execution_count": 8,
   "metadata": {},
   "outputs": [],
   "source": [
    "bina = MultiLabelBinarizer()\n",
    "usodosolo = bina.fit(df.usodosolo.values.reshape(-1,1)).transform(df.usodosolo.values.reshape(-1,1))"
   ]
  },
  {
   "cell_type": "code",
   "execution_count": 9,
   "metadata": {},
   "outputs": [],
   "source": [
    "#\n",
    "Y = df.t2_1km.values\n",
    "X = df[['t2_5km','elevacao','ndvi','evi']].values"
   ]
  },
  {
   "cell_type": "code",
   "execution_count": 10,
   "metadata": {},
   "outputs": [],
   "source": [
    "X = np.hstack((X,usodosolo))"
   ]
  },
  {
   "cell_type": "code",
   "execution_count": 11,
   "metadata": {},
   "outputs": [],
   "source": [
    "stander = StandardScaler()\n",
    "X = stander.fit(X).transform(X)"
   ]
  },
  {
   "cell_type": "code",
   "execution_count": 12,
   "metadata": {},
   "outputs": [],
   "source": [
    "# dividindo conjunto de dados\n",
    "from sklearn.model_selection import train_test_split"
   ]
  },
  {
   "cell_type": "code",
   "execution_count": 13,
   "metadata": {},
   "outputs": [],
   "source": [
    "X_train, X_test, y_train, y_test = train_test_split(X,Y,test_size = 0.25, random_state=42)"
   ]
  },
  {
   "cell_type": "code",
   "execution_count": null,
   "metadata": {},
   "outputs": [],
   "source": []
  },
  {
   "cell_type": "code",
   "execution_count": 14,
   "metadata": {},
   "outputs": [],
   "source": [
    "from feature_selector import FeatureSelector\n",
    "\n"
   ]
  },
  {
   "cell_type": "code",
   "execution_count": 38,
   "metadata": {},
   "outputs": [],
   "source": [
    "fs = FeatureSelector(data = df, labels= df.columns)"
   ]
  },
  {
   "cell_type": "code",
   "execution_count": 45,
   "metadata": {},
   "outputs": [
    {
     "name": "stdout",
     "output_type": "stream",
     "text": [
      "0 features with greater than 0.20 missing values.\n",
      "\n"
     ]
    }
   ],
   "source": [
    "fs.identify_missing(missing_threshold=0.2)"
   ]
  },
  {
   "cell_type": "code",
   "execution_count": 46,
   "metadata": {},
   "outputs": [
    {
     "data": {
      "text/html": [
       "<div>\n",
       "<style scoped>\n",
       "    .dataframe tbody tr th:only-of-type {\n",
       "        vertical-align: middle;\n",
       "    }\n",
       "\n",
       "    .dataframe tbody tr th {\n",
       "        vertical-align: top;\n",
       "    }\n",
       "\n",
       "    .dataframe thead th {\n",
       "        text-align: right;\n",
       "    }\n",
       "</style>\n",
       "<table border=\"1\" class=\"dataframe\">\n",
       "  <thead>\n",
       "    <tr style=\"text-align: right;\">\n",
       "      <th></th>\n",
       "      <th>missing_fraction</th>\n",
       "    </tr>\n",
       "  </thead>\n",
       "  <tbody>\n",
       "    <tr>\n",
       "      <th>t2_5km</th>\n",
       "      <td>0.0</td>\n",
       "    </tr>\n",
       "    <tr>\n",
       "      <th>usodosolo</th>\n",
       "      <td>0.0</td>\n",
       "    </tr>\n",
       "    <tr>\n",
       "      <th>elevacao</th>\n",
       "      <td>0.0</td>\n",
       "    </tr>\n",
       "    <tr>\n",
       "      <th>t2_1km</th>\n",
       "      <td>0.0</td>\n",
       "    </tr>\n",
       "    <tr>\n",
       "      <th>ndvi</th>\n",
       "      <td>0.0</td>\n",
       "    </tr>\n",
       "  </tbody>\n",
       "</table>\n",
       "</div>"
      ],
      "text/plain": [
       "           missing_fraction\n",
       "t2_5km                  0.0\n",
       "usodosolo               0.0\n",
       "elevacao                0.0\n",
       "t2_1km                  0.0\n",
       "ndvi                    0.0"
      ]
     },
     "execution_count": 46,
     "metadata": {},
     "output_type": "execute_result"
    }
   ],
   "source": [
    "fs.missing_stats.head()"
   ]
  },
  {
   "cell_type": "markdown",
   "metadata": {},
   "source": [
    "## Treinando os modelos"
   ]
  },
  {
   "cell_type": "code",
   "execution_count": 19,
   "metadata": {},
   "outputs": [],
   "source": [
    "import time"
   ]
  },
  {
   "cell_type": "code",
   "execution_count": 17,
   "metadata": {},
   "outputs": [],
   "source": [
    "# importando bibliotecas\n",
    "from sklearn.metrics import mean_squared_error\n",
    "from sklearn.tree import DecisionTreeRegressor\n",
    "from sklearn.ensemble import ExtraTreesRegressor\n",
    "from sklearn.neighbors import KNeighborsRegressor\n",
    "from sklearn.ensemble import GradientBoostingRegressor\n",
    "from sklearn.ensemble import AdaBoostRegressor\n",
    "from sklearn.multioutput import MultiOutputRegressor\n",
    "from sklearn.ensemble import RandomForestRegressor\n",
    "from sklearn.svm import SVR\n",
    "from sklearn.neural_network import MLPRegressor"
   ]
  },
  {
   "cell_type": "code",
   "execution_count": 14,
   "metadata": {},
   "outputs": [],
   "source": [
    "# cria dicionario com os algorimos utilizados \n",
    "ESTIMATORS = {    \n",
    "    \"K-nn\": KNeighborsRegressor(),                        \n",
    "    \"RandomForestRegressor\": RandomForestRegressor(max_depth=50, random_state=2),\n",
    "    \"Decision Tree Regressor\":DecisionTreeRegressor(max_depth=5),\n",
    "    \"SVC\":SVR(),\n",
    "    #\"NeuralNetwork\": MLPRegressor(solver='adam', random_state=1,\n",
    "     #                             hidden_layer_sizes=(4,4,4,2)),\n",
    "    \"GBR\" :GradientBoostingRegressor(n_estimators=35),\n",
    "    \"AdaB\" :AdaBoostRegressor(n_estimators=5)\n",
    "}"
   ]
  },
  {
   "cell_type": "code",
   "execution_count": 17,
   "metadata": {},
   "outputs": [
    {
     "name": "stderr",
     "output_type": "stream",
     "text": [
      "/home/pensario/.local/lib/python3.6/site-packages/sklearn/ensemble/forest.py:246: FutureWarning: The default value of n_estimators will change from 10 in version 0.20 to 100 in 0.22.\n",
      "  \"10 in version 0.20 to 100 in 0.22.\", FutureWarning)\n",
      "/home/pensario/.local/lib/python3.6/site-packages/sklearn/svm/base.py:196: FutureWarning: The default value of gamma will change from 'auto' to 'scale' in version 0.22 to account better for unscaled features. Set gamma explicitly to 'auto' or 'scale' to avoid this warning.\n",
      "  \"avoid this warning.\", FutureWarning)\n"
     ]
    },
    {
     "name": "stdout",
     "output_type": "stream",
     "text": [
      "1028.6347250000001\n"
     ]
    }
   ],
   "source": [
    "Tii = time.clock()\n",
    "# aplicando os algortimos\n",
    "y_test_predict = dict()\n",
    "y_mse = dict()\n",
    "y_r2 = dict()\n",
    "tempro = dict()\n",
    "#fig = plt.figure(figsize=(15,10))\n",
    "i=1\n",
    "for name, estimator in ESTIMATORS.items():\n",
    "    Ti = time.clock()\n",
    "    estimator.fit(X_train, y_train)                    # fit() with instantiated object\n",
    "    y_test_predict[name] = previsao = estimator.predict(X_test)   # Make predictions and save it in dict under key: name\n",
    "    y_mse[name] = mean_squared_error(y_test, estimator.predict(X_test))\n",
    "    y_r2[name] = estimator.score(X_test,y_test)\n",
    "    Tf = time.clock()    \n",
    "    tempro[name] = Tf - Ti\n",
    "    print(name + ' Concluido')\n",
    "    #grafico\n",
    "#     z= np.polyfit(y_test.flatten(),previsao.flatten(),1)\n",
    "#     p=np.poly1d(z)\n",
    "#     ax=fig.add_subplot(2,3,i)\n",
    "#     ax.scatter(y_test,previsao,color='k',marker='+')\n",
    "#     ax.set_xlabel('Observado')\n",
    "#     ax.set_ylabel('Estimado')\n",
    "#     ax.set_title(name)\n",
    "#     ax.plot(y_test,p(y_test),'r--')\n",
    "#     i+=1\n",
    "\n",
    "# plt.tight_layout()\n",
    "# #plt.savefig('../../../Qualificacao/MML_evaporacao_INMET.png')\n",
    "# plt.show()\n",
    "\n",
    "    \n",
    "\n",
    "Resultados=pd.DataFrame({'mse':list(y_mse.values()),    # Padronizando o os dois\n",
    "                 'R2':list(y_r2.values()),\n",
    "               'Tempo':list(tempro.values())},               \n",
    "                index=list(y_r2.keys()))\n",
    "\n",
    "Tff = time.clock()\n",
    "\n",
    "print(Tff - Tii)"
   ]
  },
  {
   "cell_type": "code",
   "execution_count": 18,
   "metadata": {},
   "outputs": [
    {
     "data": {
      "text/html": [
       "<div>\n",
       "<style scoped>\n",
       "    .dataframe tbody tr th:only-of-type {\n",
       "        vertical-align: middle;\n",
       "    }\n",
       "\n",
       "    .dataframe tbody tr th {\n",
       "        vertical-align: top;\n",
       "    }\n",
       "\n",
       "    .dataframe thead th {\n",
       "        text-align: right;\n",
       "    }\n",
       "</style>\n",
       "<table border=\"1\" class=\"dataframe\">\n",
       "  <thead>\n",
       "    <tr style=\"text-align: right;\">\n",
       "      <th></th>\n",
       "      <th>mse</th>\n",
       "      <th>R2</th>\n",
       "      <th>Tempo</th>\n",
       "    </tr>\n",
       "  </thead>\n",
       "  <tbody>\n",
       "    <tr>\n",
       "      <th>K-nn</th>\n",
       "      <td>1.471229</td>\n",
       "      <td>0.895487</td>\n",
       "      <td>206.584040</td>\n",
       "    </tr>\n",
       "    <tr>\n",
       "      <th>RandomForestRegressor</th>\n",
       "      <td>0.733927</td>\n",
       "      <td>0.947864</td>\n",
       "      <td>4.638899</td>\n",
       "    </tr>\n",
       "    <tr>\n",
       "      <th>Decision Tree Regressor</th>\n",
       "      <td>1.857161</td>\n",
       "      <td>0.868072</td>\n",
       "      <td>0.167279</td>\n",
       "    </tr>\n",
       "    <tr>\n",
       "      <th>SVC</th>\n",
       "      <td>1.769732</td>\n",
       "      <td>0.874282</td>\n",
       "      <td>813.335483</td>\n",
       "    </tr>\n",
       "    <tr>\n",
       "      <th>GBR</th>\n",
       "      <td>1.740585</td>\n",
       "      <td>0.876353</td>\n",
       "      <td>3.305073</td>\n",
       "    </tr>\n",
       "    <tr>\n",
       "      <th>AdaB</th>\n",
       "      <td>2.209180</td>\n",
       "      <td>0.843065</td>\n",
       "      <td>0.602542</td>\n",
       "    </tr>\n",
       "  </tbody>\n",
       "</table>\n",
       "</div>"
      ],
      "text/plain": [
       "                              mse        R2       Tempo\n",
       "K-nn                     1.471229  0.895487  206.584040\n",
       "RandomForestRegressor    0.733927  0.947864    4.638899\n",
       "Decision Tree Regressor  1.857161  0.868072    0.167279\n",
       "SVC                      1.769732  0.874282  813.335483\n",
       "GBR                      1.740585  0.876353    3.305073\n",
       "AdaB                     2.209180  0.843065    0.602542"
      ]
     },
     "execution_count": 18,
     "metadata": {},
     "output_type": "execute_result"
    }
   ],
   "source": [
    "Resultados"
   ]
  },
  {
   "cell_type": "markdown",
   "metadata": {},
   "source": [
    "# Random forest"
   ]
  },
  {
   "cell_type": "code",
   "execution_count": 20,
   "metadata": {},
   "outputs": [
    {
     "name": "stdout",
     "output_type": "stream",
     "text": [
      "42.28546\n"
     ]
    }
   ],
   "source": [
    "# Random forest\n",
    "Ti = time.clock()\n",
    "\n",
    "rf = RandomForestRegressor(max_depth=50, random_state=50,n_estimators=100,max_features='auto')\n",
    "rf.fit(X_train,y_train)\n",
    "r2 = rf.score(X_test,y_test)\n",
    "\n",
    "Tf = time.clock()\n",
    "print(Tf -Ti)"
   ]
  },
  {
   "cell_type": "code",
   "execution_count": 37,
   "metadata": {},
   "outputs": [
    {
     "data": {
      "text/plain": [
       "0.9535343799640336"
      ]
     },
     "execution_count": 37,
     "metadata": {},
     "output_type": "execute_result"
    }
   ],
   "source": [
    "r2"
   ]
  },
  {
   "cell_type": "code",
   "execution_count": null,
   "metadata": {},
   "outputs": [],
   "source": [
    "# export random forest\n"
   ]
  },
  {
   "cell_type": "code",
   "execution_count": 61,
   "metadata": {
    "scrolled": true
   },
   "outputs": [
    {
     "name": "stdout",
     "output_type": "stream",
     "text": [
      "47.604609999999866\n"
     ]
    }
   ],
   "source": [
    "t1 = time.clock()\n",
    "rf = RandomForestRegressor(n_estimators = 100,n_jobs=1)\n",
    "\n",
    "\n",
    "rf.fit(X_train,y_train)\n",
    "\n",
    "t2 =time.clock()\n",
    "\n",
    "print( t2-t1)"
   ]
  },
  {
   "cell_type": "code",
   "execution_count": 58,
   "metadata": {},
   "outputs": [
    {
     "data": {
      "text/plain": [
       "0.9534106860062835"
      ]
     },
     "execution_count": 58,
     "metadata": {},
     "output_type": "execute_result"
    }
   ],
   "source": [
    "rf.score(X_test,y_test)"
   ]
  },
  {
   "cell_type": "code",
   "execution_count": 16,
   "metadata": {
    "scrolled": true
   },
   "outputs": [
    {
     "name": "stdout",
     "output_type": "stream",
     "text": [
      "0.9002181507951061\n",
      "0.8606129999999439\n",
      "0.901724995247734\n",
      "5.806797000000017\n",
      "0.902083133048904\n",
      "9.31736699999999\n",
      "0.9024873666401958\n",
      "19.57063100000005\n",
      "0.9425735860158646\n",
      "1.7869870000000105\n",
      "0.952016192685208\n",
      "12.854705000000024\n",
      "0.9530522214173717\n",
      "18.382357000000013\n",
      "0.9535498005417054\n",
      "40.369403999999975\n",
      "0.9421649454364501\n",
      "1.777557999999999\n",
      "0.9523897476543615\n",
      "11.036776999999972\n",
      "0.9534599632725352\n",
      "20.050029999999992\n",
      "0.953546887530192\n",
      "38.98714799999999\n",
      "0.9415136114708742\n",
      "1.9983889999999747\n",
      "0.951905900437365\n",
      "11.498152000000005\n",
      "0.953054075149811\n",
      "18.79529500000001\n",
      "0.9534982011674827\n",
      "36.45442299999996\n",
      "249.55008199999997\n"
     ]
    }
   ],
   "source": [
    "t1 = time.clock()\n",
    "max_depth = [10, 30, 50,100]\n",
    "n_estimators = [ 5,30,50, 100,]\n",
    "r2L= dict()\n",
    "tempo = dict()\n",
    "for i in range(len(max_depth)):\n",
    "    for x in range(len(n_estimators)):\n",
    "        t3 = time.clock()\n",
    "        rf = RandomForestRegressor(max_depth=max_depth[i],n_estimators = n_estimators[x])\n",
    "        rf.fit(X_train,y_train)\n",
    "        r2L[str(max_depth[i])+'-'+str(n_estimators[x])] = rf.score(X_test,y_test)\n",
    "        print(rf.score(X_test,y_test))\n",
    "        t4 = time.clock()\n",
    "        print(t4 -t3)\n",
    "        tempo[str(max_depth[i])+'-'+str(n_estimators[x])] = t4 - t3\n",
    "\n",
    "r2RF = pd.DataFrame({'R2':list(r2L.values()), \n",
    "                    'tempo':list(tempo.values())},\n",
    "                    index=list(r2L.keys()))\n",
    "\n",
    "t2 =time.clock()\n",
    "\n",
    "print( t2-t1)"
   ]
  },
  {
   "cell_type": "code",
   "execution_count": 19,
   "metadata": {},
   "outputs": [],
   "source": [
    "r2RF = pd.DataFrame({'R2':list(r2L.values()), \n",
    "                    'tempo':list(tempo.values())},\n",
    "                    index=list(r2L.keys()))"
   ]
  },
  {
   "cell_type": "code",
   "execution_count": 5,
   "metadata": {},
   "outputs": [
    {
     "ename": "NameError",
     "evalue": "name 'r2RF' is not defined",
     "output_type": "error",
     "traceback": [
      "\u001b[0;31m---------------------------------------------------------------------------\u001b[0m",
      "\u001b[0;31mNameError\u001b[0m                                 Traceback (most recent call last)",
      "\u001b[0;32m<ipython-input-5-09bee14f7535>\u001b[0m in \u001b[0;36m<module>\u001b[0;34m\u001b[0m\n\u001b[0;32m----> 1\u001b[0;31m \u001b[0mr2RF\u001b[0m\u001b[0;34m\u001b[0m\u001b[0;34m\u001b[0m\u001b[0m\n\u001b[0m",
      "\u001b[0;31mNameError\u001b[0m: name 'r2RF' is not defined"
     ]
    }
   ],
   "source": [
    "r2RF "
   ]
  },
  {
   "cell_type": "code",
   "execution_count": 43,
   "metadata": {
    "scrolled": false
   },
   "outputs": [
    {
     "data": {
      "text/html": [
       "<div>\n",
       "<style scoped>\n",
       "    .dataframe tbody tr th:only-of-type {\n",
       "        vertical-align: middle;\n",
       "    }\n",
       "\n",
       "    .dataframe tbody tr th {\n",
       "        vertical-align: top;\n",
       "    }\n",
       "\n",
       "    .dataframe thead th {\n",
       "        text-align: right;\n",
       "    }\n",
       "</style>\n",
       "<table border=\"1\" class=\"dataframe\">\n",
       "  <thead>\n",
       "    <tr style=\"text-align: right;\">\n",
       "      <th></th>\n",
       "      <th>R2</th>\n",
       "      <th>tempo</th>\n",
       "    </tr>\n",
       "  </thead>\n",
       "  <tbody>\n",
       "    <tr>\n",
       "      <th>30-30</th>\n",
       "      <td>0.952016</td>\n",
       "      <td>12.854705</td>\n",
       "    </tr>\n",
       "    <tr>\n",
       "      <th>30-50</th>\n",
       "      <td>0.953052</td>\n",
       "      <td>18.382357</td>\n",
       "    </tr>\n",
       "    <tr>\n",
       "      <th>30-100</th>\n",
       "      <td>0.953550</td>\n",
       "      <td>40.369404</td>\n",
       "    </tr>\n",
       "    <tr>\n",
       "      <th>50-30</th>\n",
       "      <td>0.952390</td>\n",
       "      <td>11.036777</td>\n",
       "    </tr>\n",
       "    <tr>\n",
       "      <th>50-50</th>\n",
       "      <td>0.953460</td>\n",
       "      <td>20.050030</td>\n",
       "    </tr>\n",
       "    <tr>\n",
       "      <th>50-100</th>\n",
       "      <td>0.953547</td>\n",
       "      <td>38.987148</td>\n",
       "    </tr>\n",
       "    <tr>\n",
       "      <th>100-30</th>\n",
       "      <td>0.951906</td>\n",
       "      <td>11.498152</td>\n",
       "    </tr>\n",
       "    <tr>\n",
       "      <th>100-50</th>\n",
       "      <td>0.953054</td>\n",
       "      <td>18.795295</td>\n",
       "    </tr>\n",
       "    <tr>\n",
       "      <th>100-100</th>\n",
       "      <td>0.953498</td>\n",
       "      <td>36.454423</td>\n",
       "    </tr>\n",
       "  </tbody>\n",
       "</table>\n",
       "</div>"
      ],
      "text/plain": [
       "               R2      tempo\n",
       "30-30    0.952016  12.854705\n",
       "30-50    0.953052  18.382357\n",
       "30-100   0.953550  40.369404\n",
       "50-30    0.952390  11.036777\n",
       "50-50    0.953460  20.050030\n",
       "50-100   0.953547  38.987148\n",
       "100-30   0.951906  11.498152\n",
       "100-50   0.953054  18.795295\n",
       "100-100  0.953498  36.454423"
      ]
     },
     "execution_count": 43,
     "metadata": {},
     "output_type": "execute_result"
    }
   ],
   "source": [
    "r2RF[r2RF['R2']>0.95]"
   ]
  },
  {
   "cell_type": "code",
   "execution_count": 21,
   "metadata": {
    "scrolled": true
   },
   "outputs": [
    {
     "data": {
      "text/plain": [
       "[<matplotlib.lines.Line2D at 0x7fc8f20f8e80>]"
      ]
     },
     "execution_count": 21,
     "metadata": {},
     "output_type": "execute_result"
    },
    {
     "data": {
      "image/png": "[encoded data removed]",
      "text/plain": [
       "<Figure size 432x288 with 1 Axes>"
      ]
     },
     "metadata": {
      "needs_background": "light"
     },
     "output_type": "display_data"
    }
   ],
   "source": [
    "plt.plot(r2RF.R2.values, r2RF.tempo,'o')"
   ]
  },
  {
   "cell_type": "code",
   "execution_count": 21,
   "metadata": {},
   "outputs": [],
   "source": [
    "#curva roc \n",
    "from sklearn.metrics import roc_curve,auc"
   ]
  },
  {
   "cell_type": "markdown",
   "metadata": {},
   "source": [
    "# Gradient boosting "
   ]
  },
  {
   "cell_type": "code",
   "execution_count": null,
   "metadata": {},
   "outputs": [],
   "source": []
  },
  {
   "cell_type": "code",
   "execution_count": 33,
   "metadata": {
    "scrolled": false
   },
   "outputs": [
    {
     "ename": "KeyboardInterrupt",
     "evalue": "",
     "output_type": "error",
     "traceback": [
      "\u001b[0;31m---------------------------------------------------------------------------\u001b[0m",
      "\u001b[0;31mKeyboardInterrupt\u001b[0m                         Traceback (most recent call last)",
      "\u001b[0;32m<ipython-input-33-4b3758efc8e9>\u001b[0m in \u001b[0;36m<module>\u001b[0;34m\u001b[0m\n\u001b[1;32m      9\u001b[0m     \u001b[0mt3\u001b[0m \u001b[0;34m=\u001b[0m \u001b[0mtime\u001b[0m\u001b[0;34m.\u001b[0m\u001b[0mclock\u001b[0m\u001b[0;34m(\u001b[0m\u001b[0;34m)\u001b[0m\u001b[0;34m\u001b[0m\u001b[0;34m\u001b[0m\u001b[0m\n\u001b[1;32m     10\u001b[0m     \u001b[0mrf\u001b[0m \u001b[0;34m=\u001b[0m \u001b[0mGradientBoostingRegressor\u001b[0m\u001b[0;34m(\u001b[0m\u001b[0mlearning_rate\u001b[0m\u001b[0;34m=\u001b[0m \u001b[0mmax_depth\u001b[0m\u001b[0;34m[\u001b[0m\u001b[0mi\u001b[0m\u001b[0;34m]\u001b[0m\u001b[0;34m)\u001b[0m\u001b[0;34m\u001b[0m\u001b[0;34m\u001b[0m\u001b[0m\n\u001b[0;32m---> 11\u001b[0;31m     \u001b[0mrf\u001b[0m\u001b[0;34m.\u001b[0m\u001b[0mfit\u001b[0m\u001b[0;34m(\u001b[0m\u001b[0mX_train\u001b[0m\u001b[0;34m,\u001b[0m\u001b[0my_train\u001b[0m\u001b[0;34m)\u001b[0m\u001b[0;34m\u001b[0m\u001b[0;34m\u001b[0m\u001b[0m\n\u001b[0m\u001b[1;32m     12\u001b[0m     \u001b[0mr2L\u001b[0m\u001b[0;34m[\u001b[0m\u001b[0mstr\u001b[0m\u001b[0;34m(\u001b[0m\u001b[0mmax_depth\u001b[0m\u001b[0;34m[\u001b[0m\u001b[0mi\u001b[0m\u001b[0;34m]\u001b[0m\u001b[0;34m)\u001b[0m\u001b[0;34m]\u001b[0m \u001b[0;34m=\u001b[0m \u001b[0mrf\u001b[0m\u001b[0;34m.\u001b[0m\u001b[0mscore\u001b[0m\u001b[0;34m(\u001b[0m\u001b[0mX_test\u001b[0m\u001b[0;34m,\u001b[0m\u001b[0my_test\u001b[0m\u001b[0;34m)\u001b[0m\u001b[0;34m\u001b[0m\u001b[0;34m\u001b[0m\u001b[0m\n\u001b[1;32m     13\u001b[0m     \u001b[0mprint\u001b[0m\u001b[0;34m(\u001b[0m\u001b[0mrf\u001b[0m\u001b[0;34m.\u001b[0m\u001b[0mscore\u001b[0m\u001b[0;34m(\u001b[0m\u001b[0mX_test\u001b[0m\u001b[0;34m,\u001b[0m\u001b[0my_test\u001b[0m\u001b[0;34m)\u001b[0m\u001b[0;34m)\u001b[0m\u001b[0;34m\u001b[0m\u001b[0;34m\u001b[0m\u001b[0m\n",
      "\u001b[0;32m~/.local/lib/python3.6/site-packages/sklearn/ensemble/gradient_boosting.py\u001b[0m in \u001b[0;36mfit\u001b[0;34m(self, X, y, sample_weight, monitor)\u001b[0m\n\u001b[1;32m   1463\u001b[0m         n_stages = self._fit_stages(X, y, y_pred, sample_weight, self._rng,\n\u001b[1;32m   1464\u001b[0m                                     \u001b[0mX_val\u001b[0m\u001b[0;34m,\u001b[0m \u001b[0my_val\u001b[0m\u001b[0;34m,\u001b[0m \u001b[0msample_weight_val\u001b[0m\u001b[0;34m,\u001b[0m\u001b[0;34m\u001b[0m\u001b[0;34m\u001b[0m\u001b[0m\n\u001b[0;32m-> 1465\u001b[0;31m                                     begin_at_stage, monitor, X_idx_sorted)\n\u001b[0m\u001b[1;32m   1466\u001b[0m \u001b[0;34m\u001b[0m\u001b[0m\n\u001b[1;32m   1467\u001b[0m         \u001b[0;31m# change shape of arrays after fit (early-stopping or additional ests)\u001b[0m\u001b[0;34m\u001b[0m\u001b[0;34m\u001b[0m\u001b[0;34m\u001b[0m\u001b[0m\n",
      "\u001b[0;32m~/.local/lib/python3.6/site-packages/sklearn/ensemble/gradient_boosting.py\u001b[0m in \u001b[0;36m_fit_stages\u001b[0;34m(self, X, y, y_pred, sample_weight, random_state, X_val, y_val, sample_weight_val, begin_at_stage, monitor, X_idx_sorted)\u001b[0m\n\u001b[1;32m   1527\u001b[0m             y_pred = self._fit_stage(i, X, y, y_pred, sample_weight,\n\u001b[1;32m   1528\u001b[0m                                      \u001b[0msample_mask\u001b[0m\u001b[0;34m,\u001b[0m \u001b[0mrandom_state\u001b[0m\u001b[0;34m,\u001b[0m \u001b[0mX_idx_sorted\u001b[0m\u001b[0;34m,\u001b[0m\u001b[0;34m\u001b[0m\u001b[0;34m\u001b[0m\u001b[0m\n\u001b[0;32m-> 1529\u001b[0;31m                                      X_csc, X_csr)\n\u001b[0m\u001b[1;32m   1530\u001b[0m \u001b[0;34m\u001b[0m\u001b[0m\n\u001b[1;32m   1531\u001b[0m             \u001b[0;31m# track deviance (= loss)\u001b[0m\u001b[0;34m\u001b[0m\u001b[0;34m\u001b[0m\u001b[0;34m\u001b[0m\u001b[0m\n",
      "\u001b[0;32m~/.local/lib/python3.6/site-packages/sklearn/ensemble/gradient_boosting.py\u001b[0m in \u001b[0;36m_fit_stage\u001b[0;34m(self, i, X, y, y_pred, sample_weight, sample_mask, random_state, X_idx_sorted, X_csc, X_csr)\u001b[0m\n\u001b[1;32m   1192\u001b[0m             \u001b[0mX\u001b[0m \u001b[0;34m=\u001b[0m \u001b[0mX_csr\u001b[0m \u001b[0;32mif\u001b[0m \u001b[0mX_csr\u001b[0m \u001b[0;32mis\u001b[0m \u001b[0;32mnot\u001b[0m \u001b[0;32mNone\u001b[0m \u001b[0;32melse\u001b[0m \u001b[0mX\u001b[0m\u001b[0;34m\u001b[0m\u001b[0;34m\u001b[0m\u001b[0m\n\u001b[1;32m   1193\u001b[0m             tree.fit(X, residual, sample_weight=sample_weight,\n\u001b[0;32m-> 1194\u001b[0;31m                      check_input=False, X_idx_sorted=X_idx_sorted)\n\u001b[0m\u001b[1;32m   1195\u001b[0m \u001b[0;34m\u001b[0m\u001b[0m\n\u001b[1;32m   1196\u001b[0m             \u001b[0;31m# update tree leaves\u001b[0m\u001b[0;34m\u001b[0m\u001b[0;34m\u001b[0m\u001b[0;34m\u001b[0m\u001b[0m\n",
      "\u001b[0;32m~/.local/lib/python3.6/site-packages/sklearn/tree/tree.py\u001b[0m in \u001b[0;36mfit\u001b[0;34m(self, X, y, sample_weight, check_input, X_idx_sorted)\u001b[0m\n\u001b[1;32m   1140\u001b[0m             \u001b[0msample_weight\u001b[0m\u001b[0;34m=\u001b[0m\u001b[0msample_weight\u001b[0m\u001b[0;34m,\u001b[0m\u001b[0;34m\u001b[0m\u001b[0;34m\u001b[0m\u001b[0m\n\u001b[1;32m   1141\u001b[0m             \u001b[0mcheck_input\u001b[0m\u001b[0;34m=\u001b[0m\u001b[0mcheck_input\u001b[0m\u001b[0;34m,\u001b[0m\u001b[0;34m\u001b[0m\u001b[0;34m\u001b[0m\u001b[0m\n\u001b[0;32m-> 1142\u001b[0;31m             X_idx_sorted=X_idx_sorted)\n\u001b[0m\u001b[1;32m   1143\u001b[0m         \u001b[0;32mreturn\u001b[0m \u001b[0mself\u001b[0m\u001b[0;34m\u001b[0m\u001b[0;34m\u001b[0m\u001b[0m\n\u001b[1;32m   1144\u001b[0m \u001b[0;34m\u001b[0m\u001b[0m\n",
      "\u001b[0;32m~/.local/lib/python3.6/site-packages/sklearn/tree/tree.py\u001b[0m in \u001b[0;36mfit\u001b[0;34m(self, X, y, sample_weight, check_input, X_idx_sorted)\u001b[0m\n\u001b[1;32m    364\u001b[0m                                            min_impurity_split)\n\u001b[1;32m    365\u001b[0m \u001b[0;34m\u001b[0m\u001b[0m\n\u001b[0;32m--> 366\u001b[0;31m         \u001b[0mbuilder\u001b[0m\u001b[0;34m.\u001b[0m\u001b[0mbuild\u001b[0m\u001b[0;34m(\u001b[0m\u001b[0mself\u001b[0m\u001b[0;34m.\u001b[0m\u001b[0mtree_\u001b[0m\u001b[0;34m,\u001b[0m \u001b[0mX\u001b[0m\u001b[0;34m,\u001b[0m \u001b[0my\u001b[0m\u001b[0;34m,\u001b[0m \u001b[0msample_weight\u001b[0m\u001b[0;34m,\u001b[0m \u001b[0mX_idx_sorted\u001b[0m\u001b[0;34m)\u001b[0m\u001b[0;34m\u001b[0m\u001b[0;34m\u001b[0m\u001b[0m\n\u001b[0m\u001b[1;32m    367\u001b[0m \u001b[0;34m\u001b[0m\u001b[0m\n\u001b[1;32m    368\u001b[0m         \u001b[0;32mif\u001b[0m \u001b[0mself\u001b[0m\u001b[0;34m.\u001b[0m\u001b[0mn_outputs_\u001b[0m \u001b[0;34m==\u001b[0m \u001b[0;36m1\u001b[0m\u001b[0;34m:\u001b[0m\u001b[0;34m\u001b[0m\u001b[0;34m\u001b[0m\u001b[0m\n",
      "\u001b[0;31mKeyboardInterrupt\u001b[0m: "
     ]
    }
   ],
   "source": [
    "# N_estimators \n",
    "\n",
    "t1 = time.clock()\n",
    "max_depth = [1, 0.5, 0.25, 0.1, 0.05, 0.01]\n",
    "#n_estimators = [  4000 , 4500, 5000, 5500, 6000 ]#[ 20,30,50,100,250,500]\n",
    "r2L= dict()\n",
    "tempo = dict()\n",
    "for i in range(len(max_depth)):    \n",
    "    t3 = time.clock()\n",
    "    rf = GradientBoostingRegressor(learning_rate= max_depth[i])\n",
    "    rf.fit(X_train,y_train)\n",
    "    r2L[str(max_depth[i])] = rf.score(X_test,y_test)\n",
    "    print(rf.score(X_test,y_test))\n",
    "    t4 = time.clock()\n",
    "    print(t4 -t3)\n",
    "    tempo[str(max_depth[i])] = t4 - t3\n",
    "\n",
    "r2GBd = pd.DataFrame({'R2':list(r2L.values()), \n",
    "                    'tempo':list(tempo.values())},\n",
    "                    index=list(r2L.keys()))\n",
    "\n",
    "t2 =time.clock()\n",
    "\n",
    "print( t2-t1)"
   ]
  },
  {
   "cell_type": "code",
   "execution_count": 27,
   "metadata": {
    "scrolled": true
   },
   "outputs": [
    {
     "data": {
      "text/plain": [
       "<matplotlib.axes._subplots.AxesSubplot at 0x7ff389d49240>"
      ]
     },
     "execution_count": 27,
     "metadata": {},
     "output_type": "execute_result"
    },
    {
     "data": {
      "image/png": "[encoded data removed]",
      "text/plain": [
       "<Figure size 432x288 with 1 Axes>"
      ]
     },
     "metadata": {
      "needs_background": "light"
     },
     "output_type": "display_data"
    }
   ],
   "source": [
    "plt.style('fivethirtyeight')\n",
    "r2GBd.R2.plot(style='--')"
   ]
  },
  {
   "cell_type": "code",
   "execution_count": 36,
   "metadata": {
    "scrolled": true
   },
   "outputs": [
    {
     "name": "stdout",
     "output_type": "stream",
     "text": [
      "      Iter       Train Loss   Remaining Time \n",
      "         1          12.1508            6.06m\n",
      "         2          10.2879            5.98m\n",
      "         3           8.7716            6.14m\n",
      "         4           7.5198            6.04m\n",
      "         5           6.5050            6.02m\n",
      "         6           5.6625            6.05m\n",
      "         7           4.9845            6.04m\n",
      "         8           4.4199            6.00m\n",
      "         9           3.9607            6.04m\n",
      "        10           3.5828            5.99m\n",
      "        20           2.0461            5.96m\n",
      "        30           1.7634            5.92m\n",
      "        40           1.6805            5.79m\n",
      "        50           1.6397            5.66m\n",
      "        60           1.6180            5.73m\n",
      "        70           1.5981            5.55m\n",
      "        80           1.5869            5.39m\n",
      "        90           1.5736            5.29m\n",
      "       100           1.5654            5.22m\n",
      "       200           1.4918            4.76m\n"
     ]
    },
    {
     "ename": "KeyboardInterrupt",
     "evalue": "",
     "output_type": "error",
     "traceback": [
      "\u001b[0;31m---------------------------------------------------------------------------\u001b[0m",
      "\u001b[0;31mKeyboardInterrupt\u001b[0m                         Traceback (most recent call last)",
      "\u001b[0;32m<ipython-input-36-1af27b393ebc>\u001b[0m in \u001b[0;36m<module>\u001b[0;34m\u001b[0m\n\u001b[1;32m      3\u001b[0m \u001b[0mt1\u001b[0m \u001b[0;34m=\u001b[0m \u001b[0mtime\u001b[0m\u001b[0;34m.\u001b[0m\u001b[0mclock\u001b[0m\u001b[0;34m(\u001b[0m\u001b[0;34m)\u001b[0m\u001b[0;34m\u001b[0m\u001b[0;34m\u001b[0m\u001b[0m\n\u001b[1;32m      4\u001b[0m \u001b[0mmodel\u001b[0m \u001b[0;34m=\u001b[0m \u001b[0mGradientBoostingRegressor\u001b[0m\u001b[0;34m(\u001b[0m\u001b[0mn_estimators\u001b[0m\u001b[0;34m=\u001b[0m \u001b[0;36m4000\u001b[0m\u001b[0;34m,\u001b[0m\u001b[0mverbose\u001b[0m\u001b[0;34m=\u001b[0m\u001b[0;36m1\u001b[0m\u001b[0;34m)\u001b[0m\u001b[0;34m\u001b[0m\u001b[0;34m\u001b[0m\u001b[0m\n\u001b[0;32m----> 5\u001b[0;31m \u001b[0mmodel\u001b[0m\u001b[0;34m.\u001b[0m\u001b[0mfit\u001b[0m\u001b[0;34m(\u001b[0m\u001b[0mX_train\u001b[0m\u001b[0;34m,\u001b[0m\u001b[0my_train\u001b[0m\u001b[0;34m)\u001b[0m\u001b[0;34m\u001b[0m\u001b[0;34m\u001b[0m\u001b[0m\n\u001b[0m\u001b[1;32m      6\u001b[0m \u001b[0;34m\u001b[0m\u001b[0m\n\u001b[1;32m      7\u001b[0m \u001b[0;34m\u001b[0m\u001b[0m\n",
      "\u001b[0;32m~/.local/lib/python3.6/site-packages/sklearn/ensemble/gradient_boosting.py\u001b[0m in \u001b[0;36mfit\u001b[0;34m(self, X, y, sample_weight, monitor)\u001b[0m\n\u001b[1;32m   1463\u001b[0m         n_stages = self._fit_stages(X, y, y_pred, sample_weight, self._rng,\n\u001b[1;32m   1464\u001b[0m                                     \u001b[0mX_val\u001b[0m\u001b[0;34m,\u001b[0m \u001b[0my_val\u001b[0m\u001b[0;34m,\u001b[0m \u001b[0msample_weight_val\u001b[0m\u001b[0;34m,\u001b[0m\u001b[0;34m\u001b[0m\u001b[0;34m\u001b[0m\u001b[0m\n\u001b[0;32m-> 1465\u001b[0;31m                                     begin_at_stage, monitor, X_idx_sorted)\n\u001b[0m\u001b[1;32m   1466\u001b[0m \u001b[0;34m\u001b[0m\u001b[0m\n\u001b[1;32m   1467\u001b[0m         \u001b[0;31m# change shape of arrays after fit (early-stopping or additional ests)\u001b[0m\u001b[0;34m\u001b[0m\u001b[0;34m\u001b[0m\u001b[0;34m\u001b[0m\u001b[0m\n",
      "\u001b[0;32m~/.local/lib/python3.6/site-packages/sklearn/ensemble/gradient_boosting.py\u001b[0m in \u001b[0;36m_fit_stages\u001b[0;34m(self, X, y, y_pred, sample_weight, random_state, X_val, y_val, sample_weight_val, begin_at_stage, monitor, X_idx_sorted)\u001b[0m\n\u001b[1;32m   1527\u001b[0m             y_pred = self._fit_stage(i, X, y, y_pred, sample_weight,\n\u001b[1;32m   1528\u001b[0m                                      \u001b[0msample_mask\u001b[0m\u001b[0;34m,\u001b[0m \u001b[0mrandom_state\u001b[0m\u001b[0;34m,\u001b[0m \u001b[0mX_idx_sorted\u001b[0m\u001b[0;34m,\u001b[0m\u001b[0;34m\u001b[0m\u001b[0;34m\u001b[0m\u001b[0m\n\u001b[0;32m-> 1529\u001b[0;31m                                      X_csc, X_csr)\n\u001b[0m\u001b[1;32m   1530\u001b[0m \u001b[0;34m\u001b[0m\u001b[0m\n\u001b[1;32m   1531\u001b[0m             \u001b[0;31m# track deviance (= loss)\u001b[0m\u001b[0;34m\u001b[0m\u001b[0;34m\u001b[0m\u001b[0;34m\u001b[0m\u001b[0m\n",
      "\u001b[0;32m~/.local/lib/python3.6/site-packages/sklearn/ensemble/gradient_boosting.py\u001b[0m in \u001b[0;36m_fit_stage\u001b[0;34m(self, i, X, y, y_pred, sample_weight, sample_mask, random_state, X_idx_sorted, X_csc, X_csr)\u001b[0m\n\u001b[1;32m   1192\u001b[0m             \u001b[0mX\u001b[0m \u001b[0;34m=\u001b[0m \u001b[0mX_csr\u001b[0m \u001b[0;32mif\u001b[0m \u001b[0mX_csr\u001b[0m \u001b[0;32mis\u001b[0m \u001b[0;32mnot\u001b[0m \u001b[0;32mNone\u001b[0m \u001b[0;32melse\u001b[0m \u001b[0mX\u001b[0m\u001b[0;34m\u001b[0m\u001b[0;34m\u001b[0m\u001b[0m\n\u001b[1;32m   1193\u001b[0m             tree.fit(X, residual, sample_weight=sample_weight,\n\u001b[0;32m-> 1194\u001b[0;31m                      check_input=False, X_idx_sorted=X_idx_sorted)\n\u001b[0m\u001b[1;32m   1195\u001b[0m \u001b[0;34m\u001b[0m\u001b[0m\n\u001b[1;32m   1196\u001b[0m             \u001b[0;31m# update tree leaves\u001b[0m\u001b[0;34m\u001b[0m\u001b[0;34m\u001b[0m\u001b[0;34m\u001b[0m\u001b[0m\n",
      "\u001b[0;32m~/.local/lib/python3.6/site-packages/sklearn/tree/tree.py\u001b[0m in \u001b[0;36mfit\u001b[0;34m(self, X, y, sample_weight, check_input, X_idx_sorted)\u001b[0m\n\u001b[1;32m   1140\u001b[0m             \u001b[0msample_weight\u001b[0m\u001b[0;34m=\u001b[0m\u001b[0msample_weight\u001b[0m\u001b[0;34m,\u001b[0m\u001b[0;34m\u001b[0m\u001b[0;34m\u001b[0m\u001b[0m\n\u001b[1;32m   1141\u001b[0m             \u001b[0mcheck_input\u001b[0m\u001b[0;34m=\u001b[0m\u001b[0mcheck_input\u001b[0m\u001b[0;34m,\u001b[0m\u001b[0;34m\u001b[0m\u001b[0;34m\u001b[0m\u001b[0m\n\u001b[0;32m-> 1142\u001b[0;31m             X_idx_sorted=X_idx_sorted)\n\u001b[0m\u001b[1;32m   1143\u001b[0m         \u001b[0;32mreturn\u001b[0m \u001b[0mself\u001b[0m\u001b[0;34m\u001b[0m\u001b[0;34m\u001b[0m\u001b[0m\n\u001b[1;32m   1144\u001b[0m \u001b[0;34m\u001b[0m\u001b[0m\n",
      "\u001b[0;32m~/.local/lib/python3.6/site-packages/sklearn/tree/tree.py\u001b[0m in \u001b[0;36mfit\u001b[0;34m(self, X, y, sample_weight, check_input, X_idx_sorted)\u001b[0m\n\u001b[1;32m    364\u001b[0m                                            min_impurity_split)\n\u001b[1;32m    365\u001b[0m \u001b[0;34m\u001b[0m\u001b[0m\n\u001b[0;32m--> 366\u001b[0;31m         \u001b[0mbuilder\u001b[0m\u001b[0;34m.\u001b[0m\u001b[0mbuild\u001b[0m\u001b[0;34m(\u001b[0m\u001b[0mself\u001b[0m\u001b[0;34m.\u001b[0m\u001b[0mtree_\u001b[0m\u001b[0;34m,\u001b[0m \u001b[0mX\u001b[0m\u001b[0;34m,\u001b[0m \u001b[0my\u001b[0m\u001b[0;34m,\u001b[0m \u001b[0msample_weight\u001b[0m\u001b[0;34m,\u001b[0m \u001b[0mX_idx_sorted\u001b[0m\u001b[0;34m)\u001b[0m\u001b[0;34m\u001b[0m\u001b[0;34m\u001b[0m\u001b[0m\n\u001b[0m\u001b[1;32m    367\u001b[0m \u001b[0;34m\u001b[0m\u001b[0m\n\u001b[1;32m    368\u001b[0m         \u001b[0;32mif\u001b[0m \u001b[0mself\u001b[0m\u001b[0;34m.\u001b[0m\u001b[0mn_outputs_\u001b[0m \u001b[0;34m==\u001b[0m \u001b[0;36m1\u001b[0m\u001b[0;34m:\u001b[0m\u001b[0;34m\u001b[0m\u001b[0;34m\u001b[0m\u001b[0m\n",
      "\u001b[0;31mKeyboardInterrupt\u001b[0m: "
     ]
    }
   ],
   "source": [
    "#max depths\n",
    "\n",
    "t1 = time.clock()\n",
    "model = GradientBoostingRegressor(n_estimators= 4000,verbose=1)\n",
    "model.fit(X_train,y_train)\n",
    "\n",
    "\n",
    "print( t2-t1)"
   ]
  },
  {
   "cell_type": "code",
   "execution_count": 29,
   "metadata": {},
   "outputs": [
    {
     "data": {
      "text/plain": [
       "0.9535343799640336"
      ]
     },
     "execution_count": 29,
     "metadata": {},
     "output_type": "execute_result"
    }
   ],
   "source": [
    "r"
   ]
  },
  {
   "cell_type": "code",
   "execution_count": 80,
   "metadata": {
    "scrolled": true
   },
   "outputs": [
    {
     "name": "stdout",
     "output_type": "stream",
     "text": [
      "0.9711859311834419\n",
      "314.6099970000005\n",
      "0.9713027493596572\n",
      "392.80295099999967\n",
      "0.971618779224504\n",
      "392.12639299999955\n",
      "0.9718459046272632\n",
      "431.9226549999994\n",
      "0.9719864387068314\n",
      "471.7483830000001\n",
      "2003.2123860000002\n"
     ]
    }
   ],
   "source": [
    "# N_estimators \n",
    "\n",
    "t1 = time.clock()\n",
    "max_depth = [1, 0.5, 0.25, 0.1, 0.05, 0.01]\n",
    "#n_estimators = [  4000 , 4500, 5000, 5500, 6000 ]#[ 20,30,50,100,250,500]\n",
    "r2L= dict()\n",
    "tempo = dict()\n",
    "for i in range(len(max_depth)):\n",
    "    for x in range(len(n_estimators)):\n",
    "        t3 = time.clock()\n",
    "        rf = GradientBoostingRegressor(learning_rate= max_depth[i], n_estimators = n_estimators[x])\n",
    "        rf.fit(X_train,y_train)\n",
    "        r2L[str(max_depth[i])+'-'+str(n_estimators[x])] = rf.score(X_test,y_test)\n",
    "        print(rf.score(X_test,y_test))\n",
    "        t4 = time.clock()\n",
    "        print(t4 -t3)\n",
    "        tempo[str(max_depth[i])+'-'+str(n_estimators[x])] = t4 - t3\n",
    "\n",
    "r2GBd = pd.DataFrame({'R2':list(r2L.values()), \n",
    "                    'tempo':list(tempo.values())},\n",
    "                    index=list(r2L.keys()))\n",
    "\n",
    "t2 =time.clock()\n",
    "\n",
    "print( t2-t1)"
   ]
  },
  {
   "cell_type": "code",
   "execution_count": 73,
   "metadata": {},
   "outputs": [
    {
     "data": {
      "text/html": [
       "<div>\n",
       "<style scoped>\n",
       "    .dataframe tbody tr th:only-of-type {\n",
       "        vertical-align: middle;\n",
       "    }\n",
       "\n",
       "    .dataframe tbody tr th {\n",
       "        vertical-align: top;\n",
       "    }\n",
       "\n",
       "    .dataframe thead th {\n",
       "        text-align: right;\n",
       "    }\n",
       "</style>\n",
       "<table border=\"1\" class=\"dataframe\">\n",
       "  <thead>\n",
       "    <tr style=\"text-align: right;\">\n",
       "      <th></th>\n",
       "      <th>R2</th>\n",
       "      <th>tempo</th>\n",
       "    </tr>\n",
       "  </thead>\n",
       "  <tbody>\n",
       "    <tr>\n",
       "      <th>1-2000</th>\n",
       "      <td>0.968210</td>\n",
       "      <td>237.806159</td>\n",
       "    </tr>\n",
       "    <tr>\n",
       "      <th>1-2500</th>\n",
       "      <td>0.969631</td>\n",
       "      <td>334.127959</td>\n",
       "    </tr>\n",
       "    <tr>\n",
       "      <th>1-3000</th>\n",
       "      <td>0.970189</td>\n",
       "      <td>378.929803</td>\n",
       "    </tr>\n",
       "    <tr>\n",
       "      <th>1-3500</th>\n",
       "      <td>0.970607</td>\n",
       "      <td>299.709820</td>\n",
       "    </tr>\n",
       "    <tr>\n",
       "      <th>1-4000</th>\n",
       "      <td>0.971010</td>\n",
       "      <td>331.314514</td>\n",
       "    </tr>\n",
       "  </tbody>\n",
       "</table>\n",
       "</div>"
      ],
      "text/plain": [
       "              R2       tempo\n",
       "1-2000  0.968210  237.806159\n",
       "1-2500  0.969631  334.127959\n",
       "1-3000  0.970189  378.929803\n",
       "1-3500  0.970607  299.709820\n",
       "1-4000  0.971010  331.314514"
      ]
     },
     "execution_count": 73,
     "metadata": {},
     "output_type": "execute_result"
    }
   ],
   "source": [
    "r2GBd "
   ]
  },
  {
   "cell_type": "code",
   "execution_count": 76,
   "metadata": {},
   "outputs": [],
   "source": [
    "R2GB = pd.concat([R2GB,r2GBd.loc['1-2500':]])\n"
   ]
  },
  {
   "cell_type": "code",
   "execution_count": 79,
   "metadata": {
    "scrolled": true
   },
   "outputs": [
    {
     "data": {
      "text/html": [
       "<div>\n",
       "<style scoped>\n",
       "    .dataframe tbody tr th:only-of-type {\n",
       "        vertical-align: middle;\n",
       "    }\n",
       "\n",
       "    .dataframe tbody tr th {\n",
       "        vertical-align: top;\n",
       "    }\n",
       "\n",
       "    .dataframe thead th {\n",
       "        text-align: right;\n",
       "    }\n",
       "</style>\n",
       "<table border=\"1\" class=\"dataframe\">\n",
       "  <thead>\n",
       "    <tr style=\"text-align: right;\">\n",
       "      <th></th>\n",
       "      <th>R2</th>\n",
       "      <th>tempo</th>\n",
       "    </tr>\n",
       "  </thead>\n",
       "  <tbody>\n",
       "    <tr>\n",
       "      <th>1-100</th>\n",
       "      <td>0.906160</td>\n",
       "      <td>9.628947</td>\n",
       "    </tr>\n",
       "    <tr>\n",
       "      <th>1-250</th>\n",
       "      <td>0.928479</td>\n",
       "      <td>22.327168</td>\n",
       "    </tr>\n",
       "    <tr>\n",
       "      <th>1-500</th>\n",
       "      <td>0.946226</td>\n",
       "      <td>42.314013</td>\n",
       "    </tr>\n",
       "    <tr>\n",
       "      <th>1-900</th>\n",
       "      <td>0.958085</td>\n",
       "      <td>106.738674</td>\n",
       "    </tr>\n",
       "    <tr>\n",
       "      <th>1-1000</th>\n",
       "      <td>0.960200</td>\n",
       "      <td>122.014500</td>\n",
       "    </tr>\n",
       "    <tr>\n",
       "      <th>1-1100</th>\n",
       "      <td>0.961735</td>\n",
       "      <td>135.202303</td>\n",
       "    </tr>\n",
       "    <tr>\n",
       "      <th>1-1300</th>\n",
       "      <td>0.964167</td>\n",
       "      <td>156.185572</td>\n",
       "    </tr>\n",
       "    <tr>\n",
       "      <th>1-1500</th>\n",
       "      <td>0.965662</td>\n",
       "      <td>180.794670</td>\n",
       "    </tr>\n",
       "    <tr>\n",
       "      <th>1-2000</th>\n",
       "      <td>0.968201</td>\n",
       "      <td>271.411002</td>\n",
       "    </tr>\n",
       "    <tr>\n",
       "      <th>1-2500</th>\n",
       "      <td>0.969631</td>\n",
       "      <td>334.127959</td>\n",
       "    </tr>\n",
       "    <tr>\n",
       "      <th>1-3000</th>\n",
       "      <td>0.970189</td>\n",
       "      <td>378.929803</td>\n",
       "    </tr>\n",
       "    <tr>\n",
       "      <th>1-3500</th>\n",
       "      <td>0.970607</td>\n",
       "      <td>299.709820</td>\n",
       "    </tr>\n",
       "    <tr>\n",
       "      <th>1-4000</th>\n",
       "      <td>0.971010</td>\n",
       "      <td>331.314514</td>\n",
       "    </tr>\n",
       "  </tbody>\n",
       "</table>\n",
       "</div>"
      ],
      "text/plain": [
       "              R2       tempo\n",
       "1-100   0.906160    9.628947\n",
       "1-250   0.928479   22.327168\n",
       "1-500   0.946226   42.314013\n",
       "1-900   0.958085  106.738674\n",
       "1-1000  0.960200  122.014500\n",
       "1-1100  0.961735  135.202303\n",
       "1-1300  0.964167  156.185572\n",
       "1-1500  0.965662  180.794670\n",
       "1-2000  0.968201  271.411002\n",
       "1-2500  0.969631  334.127959\n",
       "1-3000  0.970189  378.929803\n",
       "1-3500  0.970607  299.709820\n",
       "1-4000  0.971010  331.314514"
      ]
     },
     "execution_count": 79,
     "metadata": {},
     "output_type": "execute_result"
    }
   ],
   "source": [
    "R2GB"
   ]
  },
  {
   "cell_type": "markdown",
   "metadata": {},
   "source": [
    "# Knn"
   ]
  },
  {
   "cell_type": "code",
   "execution_count": 84,
   "metadata": {},
   "outputs": [
    {
     "data": {
      "text/html": [
       "<div>\n",
       "<style scoped>\n",
       "    .dataframe tbody tr th:only-of-type {\n",
       "        vertical-align: middle;\n",
       "    }\n",
       "\n",
       "    .dataframe tbody tr th {\n",
       "        vertical-align: top;\n",
       "    }\n",
       "\n",
       "    .dataframe thead th {\n",
       "        text-align: right;\n",
       "    }\n",
       "</style>\n",
       "<table border=\"1\" class=\"dataframe\">\n",
       "  <thead>\n",
       "    <tr style=\"text-align: right;\">\n",
       "      <th></th>\n",
       "      <th>R2</th>\n",
       "      <th>tempo</th>\n",
       "    </tr>\n",
       "  </thead>\n",
       "  <tbody>\n",
       "    <tr>\n",
       "      <th>1-5</th>\n",
       "      <td>0.904061</td>\n",
       "      <td>163.396620</td>\n",
       "    </tr>\n",
       "    <tr>\n",
       "      <th>1-10</th>\n",
       "      <td>0.902453</td>\n",
       "      <td>174.643879</td>\n",
       "    </tr>\n",
       "    <tr>\n",
       "      <th>1-20</th>\n",
       "      <td>0.896188</td>\n",
       "      <td>182.920295</td>\n",
       "    </tr>\n",
       "    <tr>\n",
       "      <th>1-30</th>\n",
       "      <td>0.892471</td>\n",
       "      <td>183.361490</td>\n",
       "    </tr>\n",
       "    <tr>\n",
       "      <th>1-50</th>\n",
       "      <td>0.888382</td>\n",
       "      <td>188.503315</td>\n",
       "    </tr>\n",
       "    <tr>\n",
       "      <th>1-100</th>\n",
       "      <td>0.882381</td>\n",
       "      <td>195.612538</td>\n",
       "    </tr>\n",
       "    <tr>\n",
       "      <th>2-5</th>\n",
       "      <td>0.895487</td>\n",
       "      <td>133.183838</td>\n",
       "    </tr>\n",
       "    <tr>\n",
       "      <th>2-10</th>\n",
       "      <td>0.895227</td>\n",
       "      <td>145.041227</td>\n",
       "    </tr>\n",
       "    <tr>\n",
       "      <th>2-20</th>\n",
       "      <td>0.891685</td>\n",
       "      <td>152.535955</td>\n",
       "    </tr>\n",
       "    <tr>\n",
       "      <th>2-30</th>\n",
       "      <td>0.888874</td>\n",
       "      <td>156.578185</td>\n",
       "    </tr>\n",
       "    <tr>\n",
       "      <th>2-50</th>\n",
       "      <td>0.885126</td>\n",
       "      <td>162.977908</td>\n",
       "    </tr>\n",
       "    <tr>\n",
       "      <th>2-100</th>\n",
       "      <td>0.880392</td>\n",
       "      <td>172.071942</td>\n",
       "    </tr>\n",
       "  </tbody>\n",
       "</table>\n",
       "</div>"
      ],
      "text/plain": [
       "             R2       tempo\n",
       "1-5    0.904061  163.396620\n",
       "1-10   0.902453  174.643879\n",
       "1-20   0.896188  182.920295\n",
       "1-30   0.892471  183.361490\n",
       "1-50   0.888382  188.503315\n",
       "1-100  0.882381  195.612538\n",
       "2-5    0.895487  133.183838\n",
       "2-10   0.895227  145.041227\n",
       "2-20   0.891685  152.535955\n",
       "2-30   0.888874  156.578185\n",
       "2-50   0.885126  162.977908\n",
       "2-100  0.880392  172.071942"
      ]
     },
     "execution_count": 84,
     "metadata": {},
     "output_type": "execute_result"
    }
   ],
   "source": [
    "r2Knn"
   ]
  }
 ],
 "metadata": {
  "kernelspec": {
   "display_name": "Python 3",
   "language": "python",
   "name": "python3"
  },
  "language_info": {
   "codemirror_mode": {
    "name": "ipython",
    "version": 3
   },
   "file_extension": ".py",
   "mimetype": "text/x-python",
   "name": "python",
   "nbconvert_exporter": "python",
   "pygments_lexer": "ipython3",
   "version": "3.6.8"
  }
 },
 "nbformat": 4,
 "nbformat_minor": 2
}
