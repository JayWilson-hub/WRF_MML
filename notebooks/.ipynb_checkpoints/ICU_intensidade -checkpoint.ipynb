{
 "cells": [
  {
   "cell_type": "code",
   "execution_count": 2,
   "metadata": {
    "ExecuteTime": {
     "end_time": "2019-08-24T00:53:17.115825Z",
     "start_time": "2019-08-24T00:53:16.586331Z"
    }
   },
   "outputs": [],
   "source": [
    "import pandas as pd \n",
    "import numpy as np\n",
    "import matplotlib.pyplot as plt\n",
    "%matplotlib inline "
   ]
  },
  {
   "cell_type": "code",
   "execution_count": 3,
   "metadata": {
    "ExecuteTime": {
     "end_time": "2019-08-24T00:53:18.228165Z",
     "start_time": "2019-08-24T00:53:18.217639Z"
    }
   },
   "outputs": [],
   "source": [
    "df = pd.read_csv('../WRF/grade_completa/comp_d3_t2_40.txt')"
   ]
  },
  {
   "cell_type": "code",
   "execution_count": 7,
   "metadata": {
    "ExecuteTime": {
     "end_time": "2019-08-24T00:53:43.907753Z",
     "start_time": "2019-08-24T00:53:43.902613Z"
    }
   },
   "outputs": [],
   "source": [
    "grad = df.values"
   ]
  },
  {
   "cell_type": "code",
   "execution_count": 8,
   "metadata": {
    "ExecuteTime": {
     "end_time": "2019-08-24T00:53:47.026222Z",
     "start_time": "2019-08-24T00:53:47.020816Z"
    }
   },
   "outputs": [
    {
     "data": {
      "text/plain": [
       "(16574, 1)"
      ]
     },
     "execution_count": 8,
     "metadata": {},
     "output_type": "execute_result"
    }
   ],
   "source": [
    "grad.shape"
   ]
  },
  {
   "cell_type": "code",
   "execution_count": 9,
   "metadata": {
    "ExecuteTime": {
     "end_time": "2019-08-24T00:53:52.487152Z",
     "start_time": "2019-08-24T00:53:52.481690Z"
    }
   },
   "outputs": [
    {
     "data": {
      "text/plain": [
       "array([[ 298.852],\n",
       "       [ 298.939],\n",
       "       [ 298.969],\n",
       "       ..., \n",
       "       [ 307.5  ],\n",
       "       [ 307.891],\n",
       "       [ 307.875]])"
      ]
     },
     "execution_count": 9,
     "metadata": {},
     "output_type": "execute_result"
    }
   ],
   "source": [
    "plt.imshow()"
   ]
  }
 ],
 "metadata": {
  "kernelspec": {
   "display_name": "Python 3",
   "language": "python",
   "name": "python3"
  }
 },
 "nbformat": 4,
 "nbformat_minor": 2
}
